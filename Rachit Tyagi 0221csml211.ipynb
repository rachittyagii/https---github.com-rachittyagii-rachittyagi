{
 "cells": [
  {
   "attachments": {},
   "cell_type": "markdown",
   "id": "20ee7f8d",
   "metadata": {},
   "source": [
    "Rachit Tyagi , 0221csml211 , AIML - C"
   ]
  },
  {
   "attachments": {},
   "cell_type": "markdown",
   "id": "0b4b6b06",
   "metadata": {},
   "source": [
    "\n",
    "Import numpy as np # create numpy\n",
    "array arr = np.array([1, 2, 4, 5, 6]) #flipud method for reversing reverse_\n",
    "arr = np.flipud(arr)\n",
    "print(reverse_arr)"
   ]
  },
  {
   "cell_type": "code",
   "execution_count": 8,
   "id": "afde73df",
   "metadata": {},
   "outputs": [
    {
     "name": "stdout",
     "output_type": "stream",
     "text": [
      "[6 5 4 2 1]\n"
     ]
    }
   ],
   "source": [
    "import numpy as np\n",
    "arr = np.array([1, 2, 4, 5, 6])  \n",
    "reverse_arr = np.flipud(arr)\n",
    "print(reverse_arr)"
   ]
  },
  {
   "attachments": {},
   "cell_type": "markdown",
   "id": "a3c62d22",
   "metadata": {},
   "source": [
    "\n",
    "Create a class named as Student to store the rollno, name and marks in three subjects. Use List to store the marks. \n",
    "a) Write an instance method called compute() to compute total marks and\n",
    "average marks of a student. \n",
    "b) Write a method called display() to display student information"
   ]
  },
  {
   "cell_type": "code",
   "execution_count": 9,
   "id": "72ac77f5",
   "metadata": {},
   "outputs": [
    {
     "name": "stdout",
     "output_type": "stream",
     "text": [
      "Name : Ram\n",
      "Roll No.: 1\n",
      "Total Marks: 276\n",
      "Average of Marks 92.0\n"
     ]
    }
   ],
   "source": [
    "class Student:\n",
    "    l =[]\n",
    "    def __init__(self,rollno,name,m1,m2,m3):\n",
    "        self.rollno = rollno\n",
    "        self.name = name\n",
    "        self.l = [m1,m2,m3]\n",
    "        \n",
    "    def compute(self):\n",
    "        self.total_marks = sum(self.l)\n",
    "        self.avg = self.total_marks/3\n",
    "    def display(self):\n",
    "        print('Name :',self.name)\n",
    "        print('Roll No.:',self.rollno)\n",
    "        print('Total Marks:',self.total_marks)\n",
    "        print('Average of Marks',self.avg)\n",
    "P = Student(1,'Ram',89,90,97)\n",
    "P.compute()\n",
    "P.display()"
   ]
  },
  {
   "attachments": {},
   "cell_type": "markdown",
   "id": "57bd585d",
   "metadata": {},
   "source": [
    "\n",
    "Write a program to demonstrate hybrid inheritance and show MRO for each class"
   ]
  },
  {
   "cell_type": "code",
   "execution_count": 10,
   "id": "371d593a",
   "metadata": {
    "scrolled": true
   },
   "outputs": [
    {
     "name": "stdout",
     "output_type": "stream",
     "text": [
      "mig can run\n",
      "mig can fly\n",
      "mig is a vehicle\n",
      "[<class '__main__.Both'>, <class '__main__.Run'>, <class '__main__.Fly'>, <class '__main__.Vehicle'>, <class 'object'>]\n",
      "[<class '__main__.Fly'>, <class '__main__.Vehicle'>, <class 'object'>]\n",
      "[<class '__main__.Run'>, <class '__main__.Vehicle'>, <class 'object'>]\n",
      "[<class '__main__.Vehicle'>, <class 'object'>]\n"
     ]
    }
   ],
   "source": [
    "class Vehicle:\n",
    "  def __init__(self,name):\n",
    "    print(name,'is a vehicle')\n",
    "\n",
    "class Run(Vehicle):\n",
    "  def __init__(self,name):\n",
    "    print(name,'can run')\n",
    "    super().__init__(name)\n",
    "    \n",
    "class Fly(Vehicle):\n",
    "  def __init__(self,name):\n",
    "    print(name,'can fly')\n",
    "    super().__init__(name)\n",
    "\n",
    "class Both(Run,Fly):\n",
    "  def __init__(self,name):\n",
    "    super().__init__(name)\n",
    "\n",
    "V = Both('mig')\n",
    "print(Both.mro())\n",
    "print(Fly.mro())\n",
    "print(Run.mro())\n",
    "print(Vehicle.mro())\n"
   ]
  },
  {
   "attachments": {},
   "cell_type": "markdown",
   "id": "de71a785",
   "metadata": {},
   "source": [
    "Write a program to draw colored shapes (line, rectangle, oval) on canvas."
   ]
  },
  {
   "cell_type": "code",
   "execution_count": 11,
   "id": "ad9f4e50",
   "metadata": {},
   "outputs": [],
   "source": [
    "import tkinter as tk\n",
    "def draw_line():\n",
    "    canvas.create_line(50,50,200,50,fill = 'red')\n",
    "def draw_rectangle():\n",
    "    canvas.create_rectangle(50,100,200,200,fill='blue')\n",
    "def draw_oval():\n",
    "    canvas.create_oval(50,250,200,350,fill ='green')\n",
    "window = tk.Tk()\n",
    "window.title('drawing shapes')\n",
    "window.geometry('500x500')\n",
    "\n",
    "canvas = tk.Canvas(width = 400,height = 400,bg = 'yellowgreen')\n",
    "canvas.pack()\n",
    "\n",
    "line_button = tk.Button(text = 'line',command = draw_line)\n",
    "line_button.pack()\n",
    "\n",
    "rectangle_button = tk.Button(text = 'rectangle',command = draw_rectangle)\n",
    "rectangle_button.pack()\n",
    "\n",
    "oval_button = tk.Button(text = 'oval',command = draw_oval)\n",
    "oval_button.pack()\n",
    "window.mainloop()"
   ]
  },
  {
   "attachments": {},
   "cell_type": "markdown",
   "id": "d72af8aa",
   "metadata": {},
   "source": [
    "WAP that extends the class Employee. Derive two classes Manager and Team Leader from Employee class. Display all the details of the employee working under a particular Manager and \n"
   ]
  },
  {
   "cell_type": "code",
   "execution_count": 12,
   "id": "ef426c62",
   "metadata": {},
   "outputs": [
    {
     "name": "stdout",
     "output_type": "stream",
     "text": [
      "Mike \n",
      "ID: 5 \n",
      "salary: 75000 \n",
      "designation: Manager \n",
      "team: A\n",
      "\n",
      "Mike is leading the following employees:\n",
      "\n",
      "John \n",
      "ID: 1 \n",
      "salary: 50000\n",
      "\n",
      "Jane \n",
      "ID: 2 \n",
      "salary: 60000\n",
      "\n",
      "Tom \n",
      "ID: 6 \n",
      "salary: 70000 \n",
      "designation: Team Leader \n",
      "team: B\n",
      "\n",
      "Tom is leading the following employees:\n",
      "\n",
      "Bob \n",
      "ID: 3 \n",
      "salary: 55000\n",
      "\n",
      "Alice \n",
      "ID: 4 \n",
      "salary: 65000\n",
      "\n"
     ]
    }
   ],
   "source": [
    "\n",
    "class Employee:\n",
    "  d = {chr(i):[] for i in range(65,91)}\n",
    "  def __init__(self, name, emp_id, salary):\n",
    "        self.name = name\n",
    "        self.emp_id = emp_id\n",
    "        self.salary = salary\n",
    "  def team(self,obj,team):         \n",
    "    self.d[team].append(obj)\n",
    "    \n",
    "\n",
    "         \n",
    "class Manager(Employee):\n",
    "    def __init__(self, name, emp_id, salary, team):\n",
    "        super().__init__(name, emp_id, salary)\n",
    "        self.designation = 'Manager'\n",
    "        self.team = team\n",
    "\n",
    "    def display_team(self):\n",
    "        print(f\"{self.name} \\nID: {self.emp_id} \\nsalary: {self.salary} \\ndesignation: {self.designation} \\nteam: {self.team}\")\n",
    "        print()\n",
    "\n",
    "        print(f\"{self.name} is leading the following employees:\")\n",
    "        print()\n",
    "        for emp in self.d[self.team]:\n",
    "            print(f\"{emp.name} \\nID: {emp.emp_id} \\nsalary: {emp.salary}\")\n",
    "            print()\n",
    "\n",
    "class TeamLeader(Employee):\n",
    "    def __init__(self, name, emp_id, salary, team):\n",
    "        super().__init__(name, emp_id, salary)\n",
    "        self.team = team\n",
    "        self.designation = 'Team Leader'\n",
    " \n",
    "    def display_team(self):\n",
    "        print(f\"{self.name} \\nID: {self.emp_id} \\nsalary: {self.salary} \\ndesignation: {self.designation} \\nteam: {self.team}\")\n",
    "        print()\n",
    "\n",
    "        print(f\"{self.name} is leading the following employees:\")\n",
    "        print()\n",
    "        for emp in self.d[self.team]:\n",
    "            print(f\"{emp.name} \\nID: {emp.emp_id} \\nsalary: {emp.salary}\")\n",
    "            print()\n",
    "emp1 = Employee(\"John\", 1, 50000)\n",
    "emp1.team(emp1,'A')\n",
    "emp2 = Employee(\"Jane\", 2, 60000)\n",
    "emp2.team(emp2,'A')\n",
    "emp3 = Employee(\"Bob\", 3, 55000)\n",
    "emp3.team(emp3,'B')\n",
    "emp4 = Employee(\"Alice\", 4, 65000)\n",
    "emp4.team(emp4,'B')\n",
    "mgr = Manager(\"Mike\", 5, 75000, 'A')\n",
    "tl = TeamLeader(\"Tom\", 6, 70000, 'B')\n",
    "\n",
    "mgr.display_team()\n",
    "tl.display_team()"
   ]
  },
  {
   "attachments": {},
   "cell_type": "markdown",
   "id": "b3b533cf",
   "metadata": {},
   "source": [
    "\n",
    "Write a Program to create a series from a list, numpy array and dict.\n",
    "list_data = [10, 20, 30, 40, 50]\n",
    "array_data = ([0.5, 0.8, 1.2, 1.5, 2.0])"
   ]
  },
  {
   "cell_type": "code",
   "execution_count": 14,
   "id": "e40ead67",
   "metadata": {},
   "outputs": [
    {
     "name": "stdout",
     "output_type": "stream",
     "text": [
      "Series from list\n",
      "0    10\n",
      "1    20\n",
      "2    30\n",
      "3    40\n",
      "4    50\n",
      "dtype: int64\n",
      "Series from arrays\n",
      "0    0.5\n",
      "1    0.8\n",
      "2    1.2\n",
      "3    1.5\n",
      "4    2.0\n",
      "dtype: float64\n",
      "Series from dictionary\n",
      "A    100\n",
      "B    200\n",
      "C    300\n",
      "D    400\n",
      "dtype: int64\n"
     ]
    }
   ],
   "source": [
    "import numpy as np\n",
    "import pandas as pd\n",
    "l_d = [10,20,30,40,50]\n",
    "l_s = pd.Series(l_d)\n",
    "print('Series from list')\n",
    "print(l_s)\n",
    "a_d = np.array([0.5,0.8,1.2,1.5,2.0])\n",
    "a_s = pd.Series(a_d)\n",
    "print('Series from arrays')\n",
    "print(a_s)\n",
    "d_d = {'A':100,'B':200,'C':300,'D':400}\n",
    "d_s = pd.Series(d_d)\n",
    "print('Series from dictionary')\n",
    "print(d_s)\n"
   ]
  },
  {
   "attachments": {},
   "cell_type": "markdown",
   "id": "0b4ff117",
   "metadata": {},
   "source": [
    "\n",
    "What are ways of creating 1D, 2D and 3D arrays in NumPy? Give Examples"
   ]
  },
  {
   "cell_type": "markdown",
   "id": "f258e35b",
   "metadata": {},
   "source": [
    "in 1- D"
   ]
  },
  {
   "cell_type": "code",
   "execution_count": 16,
   "id": "4930db79",
   "metadata": {},
   "outputs": [
    {
     "name": "stdout",
     "output_type": "stream",
     "text": [
      "[1 2 3 4 5]\n"
     ]
    }
   ],
   "source": [
    "import numpy as np\n",
    "\n",
    "arr = np.array([1, 2, 3, 4, 5])\n",
    "print(arr)\n"
   ]
  },
  {
   "cell_type": "code",
   "execution_count": 17,
   "id": "1286ebbf",
   "metadata": {
    "scrolled": true
   },
   "outputs": [
    {
     "name": "stdout",
     "output_type": "stream",
     "text": [
      "[1 2 3 4 5]\n"
     ]
    }
   ],
   "source": [
    "import numpy as np\n",
    "\n",
    "arr = np.arange(1, 6)  # Generates array from 1 to 5\n",
    "print(arr)\n"
   ]
  },
  {
   "cell_type": "markdown",
   "id": "80aed0e1",
   "metadata": {},
   "source": [
    "2-D"
   ]
  },
  {
   "cell_type": "code",
   "execution_count": 18,
   "id": "4fc8cd41",
   "metadata": {},
   "outputs": [
    {
     "name": "stdout",
     "output_type": "stream",
     "text": [
      "[[1 2 3]\n",
      " [4 5 6]]\n"
     ]
    }
   ],
   "source": [
    "import numpy as np\n",
    "\n",
    "arr = np.array([[1, 2, 3], [4, 5, 6]])\n",
    "print(arr)\n"
   ]
  },
  {
   "cell_type": "code",
   "execution_count": 19,
   "id": "ee7ee732",
   "metadata": {
    "scrolled": true
   },
   "outputs": [
    {
     "name": "stdout",
     "output_type": "stream",
     "text": [
      "[[0. 0. 0.]\n",
      " [0. 0. 0.]]\n"
     ]
    }
   ],
   "source": [
    "import numpy as np\n",
    "\n",
    "arr = np.zeros((2, 3)) \n",
    "print(arr)"
   ]
  },
  {
   "cell_type": "markdown",
   "id": "2c51d9a4",
   "metadata": {},
   "source": [
    "3-D"
   ]
  },
  {
   "cell_type": "code",
   "execution_count": 20,
   "id": "61012a6d",
   "metadata": {},
   "outputs": [
    {
     "name": "stdout",
     "output_type": "stream",
     "text": [
      "[[[1. 1. 1. 1.]\n",
      "  [1. 1. 1. 1.]\n",
      "  [1. 1. 1. 1.]]\n",
      "\n",
      " [[1. 1. 1. 1.]\n",
      "  [1. 1. 1. 1.]\n",
      "  [1. 1. 1. 1.]]]\n"
     ]
    }
   ],
   "source": [
    "import numpy as np\n",
    "\n",
    "arr = np.ones((2, 3, 4))\n",
    "print(arr)\n"
   ]
  },
  {
   "attachments": {},
   "cell_type": "markdown",
   "id": "583136da",
   "metadata": {},
   "source": [
    "\n",
    "Write a program that creates an iterator to print squares of numbers"
   ]
  },
  {
   "cell_type": "code",
   "execution_count": 15,
   "id": "d432d889",
   "metadata": {},
   "outputs": [
    {
     "name": "stdout",
     "output_type": "stream",
     "text": [
      "1\n",
      "4\n",
      "9\n",
      "16\n",
      "25\n",
      "36\n",
      "49\n",
      "64\n",
      "81\n",
      "100\n"
     ]
    }
   ],
   "source": [
    "class Square_Iterator:\n",
    "    def __init__(self,limit):\n",
    "        self.limit = limit\n",
    "    def __iter__(self):\n",
    "        self.a = 1\n",
    "        return self\n",
    "    def __next__(self):\n",
    "        if self.limit>=self.a:\n",
    "            x = self.a\n",
    "            self.a+=1\n",
    "            return x**2\n",
    "        else:\n",
    "            raise StopIteration\n",
    "S = Square_Iterator(10)\n",
    "for i in S:\n",
    "    print(i)"
   ]
  },
  {
   "attachments": {},
   "cell_type": "markdown",
   "id": "a2cbd1f8",
   "metadata": {},
   "source": [
    "\n",
    "Create a class Employee that keeps a track of the number of employees in an organization and also stores their name, designation and salary details. \n",
    " a) Write a method called getdata to take input (name, designation,\n",
    "salary) from user. \n",
    " b) Write a method called average to find average salary of all the\n",
    "employees in the organization. \n",
    " c) Write a method called display to print all the information of an"
   ]
  },
  {
   "cell_type": "code",
   "execution_count": 5,
   "id": "5348e421",
   "metadata": {},
   "outputs": [],
   "source": [
    "class Employee:\n",
    "  number_of_employees = 0\n",
    "  total_salary = 0 \n",
    "  average = 0\n",
    "  def __init__(self):\n",
    "    Employee.number_of_employees+=1\n",
    "  def getdata(self):\n",
    "    self.name = input(\"Enter employee name: \")\n",
    "    self.designation = input(\"Enter employee designation: \")\n",
    "    self.salary = int(input(\"Enter employee salary: \"))\n",
    "    \n",
    "    Employee.total_salary += self.salary\n",
    "    Employee.average = Employee.total_salary/Employee.number_of_employees\n",
    "  def display(self):\n",
    "    print(self.name,'details :')\n",
    "    print('Designation :',self.designation)\n",
    "    print('Salary :',self.salary)\n",
    "E = Employee()\n",
    "E.getdata()\n",
    "E.display()\n",
    "E.number_of_employees"
   ]
  },
  {
   "attachments": {},
   "cell_type": "markdown",
   "id": "e4be2462",
   "metadata": {},
   "source": [
    "\n",
    "\n",
    "\n",
    "Remove all rows with NULL values: USING NUMPY AND PANDAS OF YOUR DATASET WHICH YOU HAVE"
   ]
  },
  {
   "cell_type": "code",
   "execution_count": 4,
   "id": "5b463995",
   "metadata": {
    "scrolled": true
   },
   "outputs": [
    {
     "name": "stdout",
     "output_type": "stream",
     "text": [
      "    Duration                Date    Pulse    Maxpulse    Calories\n",
      "0                 60  '2020/12/01'     110          130     409.1\n",
      "1                 60  '2020/12/02'     117          145     479.0\n",
      "2                 60  '2020/12/03'     103          135     340.0\n",
      "3                 45  '2020/12/04'     109          175     282.4\n",
      "4                 45  '2020/12/05'     117          148     406.0\n",
      "5                 60  '2020/12/06'     102          127     300.0\n",
      "6                 60  '2020/12/07'     110          136     374.0\n",
      "7                450  '2020/12/08'     104          134     253.3\n",
      "8                 30  '2020/12/09'     109          133     195.1\n",
      "9                 60  '2020/12/10'      98          124     269.0\n",
      "10                60  '2020/12/11'     103          147     329.3\n",
      "11                60  '2020/12/12'     100          120     250.7\n",
      "12                60  '2020/12/12'     100          120     250.7\n",
      "13                60  '2020/12/13'     106          128     345.3\n",
      "14                60  '2020/12/14'     104          132     379.3\n",
      "15                60  '2020/12/15'      98          123     275.0\n",
      "16                60  '2020/12/16'      98          120     215.2\n",
      "17                60  '2020/12/17'     100          120     300.0\n",
      "18                45  '2020/12/18'      90          112       NaN\n",
      "19                60  '2020/12/19'     103          123     323.0\n",
      "20                45  '2020/12/20'      97          125     243.0\n",
      "21                60  '2020/12/21'     108          131     364.2\n",
      "22                45           NaN     100          119     282.0\n",
      "23                60  '2020/12/23'     130          101     300.0\n",
      "24                45  '2020/12/24'     105          132     246.0\n",
      "25                60  '2020/12/25'     102          126     334.5\n",
      "26                60    26-12-2020     100          120     250.0\n",
      "27                60  '2020/12/27'      92          118     241.0\n",
      "28                60  '2020/12/28'     103          132       NaN\n",
      "29                60  '2020/12/29'     100          132     280.0\n",
      "30                60  '2020/12/30'     102          129     380.3\n",
      "31                60  '2020/12/31'      92          115     243.0\n",
      "    Duration                Date    Pulse    Maxpulse    Calories\n",
      "0                 60  '2020/12/01'     110          130     409.1\n",
      "1                 60  '2020/12/02'     117          145     479.0\n",
      "2                 60  '2020/12/03'     103          135     340.0\n",
      "3                 45  '2020/12/04'     109          175     282.4\n",
      "4                 45  '2020/12/05'     117          148     406.0\n",
      "5                 60  '2020/12/06'     102          127     300.0\n",
      "6                 60  '2020/12/07'     110          136     374.0\n",
      "7                450  '2020/12/08'     104          134     253.3\n",
      "8                 30  '2020/12/09'     109          133     195.1\n",
      "9                 60  '2020/12/10'      98          124     269.0\n",
      "10                60  '2020/12/11'     103          147     329.3\n",
      "11                60  '2020/12/12'     100          120     250.7\n",
      "12                60  '2020/12/12'     100          120     250.7\n",
      "13                60  '2020/12/13'     106          128     345.3\n",
      "14                60  '2020/12/14'     104          132     379.3\n",
      "15                60  '2020/12/15'      98          123     275.0\n",
      "16                60  '2020/12/16'      98          120     215.2\n",
      "17                60  '2020/12/17'     100          120     300.0\n",
      "19                60  '2020/12/19'     103          123     323.0\n",
      "20                45  '2020/12/20'      97          125     243.0\n",
      "21                60  '2020/12/21'     108          131     364.2\n",
      "23                60  '2020/12/23'     130          101     300.0\n",
      "24                45  '2020/12/24'     105          132     246.0\n",
      "25                60  '2020/12/25'     102          126     334.5\n",
      "26                60    26-12-2020     100          120     250.0\n",
      "27                60  '2020/12/27'      92          118     241.0\n",
      "29                60  '2020/12/29'     100          132     280.0\n",
      "30                60  '2020/12/30'     102          129     380.3\n",
      "31                60  '2020/12/31'      92          115     243.0\n"
     ]
    }
   ],
   "source": [
    "import pandas as pd\n",
    "d = pd.read_csv('E:\\DAY2\\Data\\Date1.csv')\n",
    "print(d)\n",
    "nd = d.dropna()\n",
    "print(nd.to_string())"
   ]
  },
  {
   "attachments": {},
   "cell_type": "markdown",
   "id": "4563d483",
   "metadata": {},
   "source": [
    "\n",
    "Write a program to count number of missing values in each column.\n",
    "{'Column1': [1, 2, 3, None, 5],\n",
    "        'Column2': [6, None, 8, 9, 10],\n",
    "        'Column3': [11, 12, None, 14, 15]}"
   ]
  },
  {
   "cell_type": "code",
   "execution_count": 25,
   "id": "ea2ffa46",
   "metadata": {
    "scrolled": true
   },
   "outputs": [
    {
     "name": "stdout",
     "output_type": "stream",
     "text": [
      "column_1    1\n",
      "column_2    1\n",
      "column_3    1\n",
      "dtype: int64\n"
     ]
    }
   ],
   "source": [
    "import pandas as pd\n",
    "d = {'column_1': [1,2,3,None,5],'column_2': [6,None,8,9,10],'column_3':[11,12,None,14,15]}\n",
    "df = pd.DataFrame(d)\n",
    "print(df.isnull().sum(axis=0))"
   ]
  },
  {
   "cell_type": "markdown",
   "id": "8e7e7495",
   "metadata": {},
   "source": [
    "# \n",
    "Write a program to implement default constructor, parameterized constructor, and destructor.\n"
   ]
  },
  {
   "cell_type": "code",
   "execution_count": 1,
   "id": "576b7b55",
   "metadata": {
    "scrolled": true
   },
   "outputs": [
    {
     "name": "stdout",
     "output_type": "stream",
     "text": [
      "Raja\n",
      "object deleted\n"
     ]
    }
   ],
   "source": [
    "class Person:\n",
    "    def __init__(self,name):\n",
    "        self.name = name\n",
    "    def __del__(self):\n",
    "        print(\"object deleted\")\n",
    "    def display(self):\n",
    "        print(self.name)\n",
    "p = Person('Raja')\n",
    "p.display()\n",
    "del p"
   ]
  },
  {
   "cell_type": "code",
   "execution_count": 2,
   "id": "5451b279",
   "metadata": {},
   "outputs": [
    {
     "name": "stdout",
     "output_type": "stream",
     "text": [
      "Rachit\n"
     ]
    }
   ],
   "source": [
    "class Person:\n",
    "    def __init__(self):\n",
    "        self.name = 'Rachit'\n",
    "    def display(self):\n",
    "        print(self.name)\n",
    "p = Person()\n",
    "p.display()"
   ]
  }
 ],
 "metadata": {
  "kernelspec": {
   "display_name": "Python 3 (ipykernel)",
   "language": "python",
   "name": "python3"
  },
  "language_info": {
   "codemirror_mode": {
    "name": "ipython",
    "version": 3
   },
   "file_extension": ".py",
   "mimetype": "text/x-python",
   "name": "python",
   "nbconvert_exporter": "python",
   "pygments_lexer": "ipython3",
   "version": "3.11.3"
  }
 },
 "nbformat": 4,
 "nbformat_minor": 5
}
