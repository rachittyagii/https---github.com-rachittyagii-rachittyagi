{
  "cells": [
    {
      "cell_type": "markdown",
      "metadata": {
        "id": "KavtGpdxv0P7"
      },
      "source": [
        "1. Write a program illustrating class definition and accessing class members.\n"
      ]
    },
    {
      "cell_type": "code",
      "execution_count": 17,
      "metadata": {
        "id": "ny2tYYx8wyHS"
      },
      "outputs": [
        {
          "name": "stdout",
          "output_type": "stream",
          "text": [
            "human\n",
            "human\n"
          ]
        }
      ],
      "source": [
        "class Person:\n",
        "    a1 = \"human\"\n",
        "\n",
        "    def display(self):\n",
        "        print(self.a1)\n",
        "\n",
        "\n",
        "p = Person()\n",
        "print(p.a1)\n",
        "p.display()"
      ]
    },
    {
      "cell_type": "markdown",
      "metadata": {
        "id": "s3UHiXdAyurE"
      },
      "source": [
        "2. Write a program to implement default constructor, parameterized constructor,\n",
        "   and destructor.\n"
      ]
    },
    {
      "cell_type": "code",
      "execution_count": 15,
      "metadata": {
        "id": "scDCRjPQ9gr8"
      },
      "outputs": [
        {
          "name": "stdout",
          "output_type": "stream",
          "text": [
            "YASH\n"
          ]
        }
      ],
      "source": [
        "class Person:\n",
        "    def __init__(self):\n",
        "        self.name = 'YASH'\n",
        "\n",
        "    def display(self):\n",
        "        print(self.name)\n",
        "\n",
        "\n",
        "p = Person()\n",
        "p.display()"
      ]
    },
    {
      "cell_type": "markdown",
      "metadata": {
        "id": "cDQhGig4zjb0"
      },
      "source": [
        "3. Create a Python class named Rectangle constructed by a length and width.\n",
        "   a. Create a method called area which will compute the area of a rectangle.\n"
      ]
    },
    {
      "cell_type": "code",
      "execution_count": 14,
      "metadata": {
        "id": "d2NEN71Uznhl"
      },
      "outputs": [
        {
          "name": "stdout",
          "output_type": "stream",
          "text": [
            "Area of rectangle: 150\n"
          ]
        }
      ],
      "source": [
        "class Rectangle:\n",
        "    def __init__(self):\n",
        "        self.length = int(input(\"Enter the length of rectangle:\"))\n",
        "        self.width = int(input(\"Enter the width of rectangle:\"))\n",
        "\n",
        "    def area(self):\n",
        "        print(\"Area of rectangle:\", self.length*self.width)\n",
        "\n",
        "\n",
        "R1 = Rectangle()\n",
        "R1.area()"
      ]
    },
    {
      "cell_type": "markdown",
      "metadata": {
        "id": "xfVtwfer0L-V"
      },
      "source": [
        "4. Create a class called Numbers, which has a single class attribute called\n",
        "   MULTIPLIER, and a constructor which takes the parameters x and y (these\n",
        "   should all be numbers).\n",
        "   a. Write an instance method called add which returns the sum of the\n",
        "   attributes x and y.\n",
        "   b. Write a class method called multiply, which takes a single number\n",
        "   parameter a and returns the product of a and MULTIPLIER.\n",
        "   c. Write a static method called subtract, which takes two number objects, b\n",
        "   and c, and returns b - c.\n",
        "   d. Write a method called value which returns a tuple containing the values of x\n",
        "   and y.\n"
      ]
    },
    {
      "cell_type": "code",
      "execution_count": 13,
      "metadata": {
        "id": "aqD2Kkfb0PX8"
      },
      "outputs": [
        {
          "name": "stdout",
          "output_type": "stream",
          "text": [
            "6\n",
            "16\n",
            "-2\n",
            "<bound method Numbers.value of <__main__.Numbers object at 0x000002290719A8D0>>\n"
          ]
        }
      ],
      "source": [
        "class Numbers:\n",
        "    MULTIPIER = 2\n",
        "\n",
        "    def __init__(self):\n",
        "        self.x = int(input(\"enter x: \"))\n",
        "        self.y = int(input(\"enter y: \"))\n",
        "\n",
        "    def add(self):\n",
        "        return self.x + self.y\n",
        "\n",
        "    @classmethod\n",
        "    def multiply(cls):\n",
        "        a = int(input(\"enter a: \"))\n",
        "        return a*cls.MULTIPIER\n",
        "\n",
        "    @staticmethod\n",
        "    def subtract(b, c):\n",
        "        return b-c\n",
        "\n",
        "    def value(self):\n",
        "        return (self.x, self.y)\n",
        "\n",
        "\n",
        "num = Numbers()\n",
        "print(num.add())\n",
        "print(num.multiply())\n",
        "print(num.subtract(2, 4))\n",
        "print(num.value)"
      ]
    },
    {
      "cell_type": "markdown",
      "metadata": {
        "id": "FdqIvRkZkQik"
      },
      "source": [
        "5. Create a class named as Student to store the name and marks in three\n",
        "   subjects. Use List to store the marks.\n",
        "   a. Write an instance method called compute to compute total marks and\n",
        "   average marks of a student.\n",
        "   b. Write a method called display to display student information\n"
      ]
    },
    {
      "cell_type": "code",
      "execution_count": 12,
      "metadata": {
        "id": "WhDRCgq1nEdB"
      },
      "outputs": [
        {
          "name": "stdout",
          "output_type": "stream",
          "text": [
            "Krishna details:\n",
            "Marks in subject1 =  98\n",
            "Marks in subject2 =  92\n",
            "Marks in subject3 =  94\n",
            "284\n",
            "94.66666666666667\n"
          ]
        }
      ],
      "source": [
        "class Student:\n",
        "    list_of_marks = []\n",
        "\n",
        "    def __init__(self):\n",
        "        self.name = input('Enter student name: ')\n",
        "        for i in range(1, 4):\n",
        "            self.list_of_marks.append(\n",
        "                int(input(f'Enter marks in subect {i} :')))\n",
        "\n",
        "    def compute(self):\n",
        "        self.total_marks = sum(self.list_of_marks)\n",
        "        self.average = self.total_marks/3\n",
        "\n",
        "    def display(self):\n",
        "        print(self.name, 'details:')\n",
        "        for i in range(1, 4):\n",
        "            print(f'Marks in subject{i} = ', self.list_of_marks[i-1])\n",
        "\n",
        "\n",
        "yash = Student()\n",
        "yash.compute()\n",
        "yash.display()\n",
        "print(yash.total_marks)\n",
        "print(yash.average)"
      ]
    },
    {
      "cell_type": "markdown",
      "metadata": {
        "id": "W5LmCjUfppGz"
      },
      "source": [
        "6. Create a class Employee that keeps a track of the number of employees in an\n",
        "   organization and also stores their name, designation and salary details.\n",
        "   a. Write a method called getdata to take input (name, designation, salary)\n",
        "   from user.\n",
        "   b. Write a method called average to find average salary of all the employees\n",
        "   in the organization.\n",
        "   c. Write a method called display to print all the information of an employee.\n"
      ]
    },
    {
      "cell_type": "code",
      "execution_count": 11,
      "metadata": {
        "id": "KHDrLMcNpzrF"
      },
      "outputs": [
        {
          "name": "stdout",
          "output_type": "stream",
          "text": [
            "Rachit Tyagi details :\n",
            "Designation : Student\n",
            "Salary : 10000\n"
          ]
        }
      ],
      "source": [
        "class Employee:\n",
        "    number_of_employees = 0\n",
        "    total_salary = 0\n",
        "    average = 0\n",
        "\n",
        "    def __init__(self):\n",
        "        Employee.number_of_employees += 1\n",
        "\n",
        "    def getdata(self):\n",
        "        self.name = input(\"Enter employee name: \")\n",
        "        self.designation = input(\"Enter employee designation: \")\n",
        "        self.salary = int(input(\"Enter employee salary: \"))\n",
        "\n",
        "        Employee.total_salary += self.salary\n",
        "        Employee.average = Employee.total_salary/Employee.number_of_employees\n",
        "\n",
        "    def display(self):\n",
        "        print(self.name, 'details :')\n",
        "        print('Designation :', self.designation)\n",
        "        print('Salary :', self.salary)\n",
        "\n",
        "\n",
        "E = Employee()\n",
        "E.getdata()\n",
        "E.display()"
      ]
    },
    {
      "cell_type": "markdown",
      "metadata": {
        "id": "FfuzSfKVzsJ4"
      },
      "source": [
        "7. Create a Python class named Circle constructed by a radius. Use a class\n",
        "   variable to define the value of constant PI.\n",
        "   a. Write two methods to be named as area and circum to compute the area\n",
        "   and the perimeter of a circle respectively by using class variable PI.\n",
        "   b. Write a method called display to print area and perimeter.\n"
      ]
    },
    {
      "cell_type": "code",
      "execution_count": 10,
      "metadata": {
        "id": "zWt3rOw7zrs6"
      },
      "outputs": [
        {
          "name": "stdout",
          "output_type": "stream",
          "text": [
            "area of circle = 314.0\n",
            "circumference_of_circle = 62.800000000000004\n"
          ]
        }
      ],
      "source": [
        "class Circle:\n",
        "    PI = 3.14\n",
        "\n",
        "    def __init__(self):\n",
        "        self.radius = int(input('Enter the radius'))\n",
        "\n",
        "    def area(self):\n",
        "        self.area_of_circle = self.PI*(self.radius**2)\n",
        "\n",
        "    def circum(self):\n",
        "        self.circumference_of_circle = 2*self.PI*self.radius\n",
        "\n",
        "    def display(self):\n",
        "        print(f'area of circle = {self.area_of_circle}')\n",
        "        print(f'circumference_of_circle = {self.circumference_of_circle}')\n",
        "\n",
        "\n",
        "C = Circle()\n",
        "C.area()\n",
        "C.circum()\n",
        "C.display()"
      ]
    },
    {
      "cell_type": "markdown",
      "metadata": {
        "id": "a96hnjFV1UgA"
      },
      "source": [
        "8. Create a class called String that stores a string and all its status details such as\n",
        "   number of uppercase letters, lowercase letters, vowels ,consonants and space\n",
        "   in instance variables.\n",
        "   a. Write methods named as count_uppercase, count_lowercase,\n",
        "   count_vowels, count_consonants and count_space to count corresponding\n",
        "   values.\n",
        "   b. Write a method called display to print string along with all the values\n",
        "   computed by methods in (a).\n"
      ]
    },
    {
      "cell_type": "code",
      "execution_count": 9,
      "metadata": {
        "id": "MKuOrdfy1hK9"
      },
      "outputs": [
        {
          "name": "stdout",
          "output_type": "stream",
          "text": [
            "string = Hello\n",
            "number of uppercase alphabets = 1\n",
            "number of lower case alphabets = 4\n",
            "number of vowels = 2 \n",
            "number of consonants = 3\n",
            "number of spaces = 0\n"
          ]
        }
      ],
      "source": [
        "class String:\n",
        "    upper_case = 0\n",
        "    lower_case = 0\n",
        "    vowel = 0\n",
        "    consonant = 0\n",
        "    space = 0\n",
        "    list_of_vowels = ['a', 'e', 'i', 'o', 'u', 'A', 'E', 'I', 'O', 'U']\n",
        "\n",
        "    def __init__(self):\n",
        "        self.st = input(\"Enter the string :\")\n",
        "\n",
        "    def count_uppercase(self):\n",
        "        for i in self.st:\n",
        "            if i.isupper():\n",
        "                self.upper_case += 1\n",
        "\n",
        "    def count_lowercase(self):\n",
        "        for i in self.st:\n",
        "            if i.islower():\n",
        "                self.lower_case += 1\n",
        "\n",
        "    def count_vowels(self):\n",
        "        for i in self.st:\n",
        "            if i in self.list_of_vowels:\n",
        "                self.vowel += 1\n",
        "\n",
        "    def count_consonants(self):\n",
        "        for i in self.st:\n",
        "            if i.isalpha():\n",
        "                if i not in self.list_of_vowels:\n",
        "                    self.consonant += 1\n",
        "\n",
        "    def count_spaces(self):\n",
        "        for i in self.st:\n",
        "            if i == \" \":\n",
        "                self.space += 1\n",
        "\n",
        "    def display(self):\n",
        "        print(f'string = {self.st}')\n",
        "        print(f'number of uppercase alphabets = {self.upper_case}')\n",
        "        print(f'number of lower case alphabets = {self.lower_case}')\n",
        "        print(f'number of vowels = {self.vowel} ')\n",
        "        print(f'number of consonants = {self.consonant}')\n",
        "        print(f'number of spaces = {self.space}')\n",
        "\n",
        "\n",
        "S = String()\n",
        "S.count_uppercase()\n",
        "S.count_lowercase()\n",
        "S.count_vowels()\n",
        "S.count_consonants()\n",
        "S.count_spaces()\n",
        "S.display()"
      ]
    },
    {
      "cell_type": "markdown",
      "metadata": {
        "id": "37dH4ylV48Ct"
      },
      "source": [
        "9. Write a program that has a class called Fraction with attributes numerator and\n",
        "   denominator.\n",
        "   a. Write a method called getdata to enter the values of the attributes.\n",
        "   b. Write a method show to print the fraction in simplified form.\n"
      ]
    },
    {
      "cell_type": "code",
      "execution_count": 8,
      "metadata": {
        "id": "4CIQ3c3_5EpP"
      },
      "outputs": [
        {
          "name": "stdout",
          "output_type": "stream",
          "text": [
            "simplified fraction = 5/7\n"
          ]
        }
      ],
      "source": [
        "class Fraction:\n",
        "    numerator = 0\n",
        "    denominator = 0\n",
        "\n",
        "    def getdata(self):\n",
        "        self.numerator = int(input(\"Enter numerator: \"))\n",
        "        self.denominator = int(input(\"Enter denominator: \"))\n",
        "        if self.denominator == 0:\n",
        "            raise ZeroDivisionError(\"denominator can not be 0\")\n",
        "\n",
        "    def show(self):\n",
        "        def gcd(a, b):\n",
        "            while b:\n",
        "                a, b = b, a % b\n",
        "            return a\n",
        "        self.common_divisor = gcd(self.numerator, self.denominator)\n",
        "        self.simplified_numerator = self.numerator // self.common_divisor\n",
        "        self.simplified_denominator = self.denominator // self.common_divisor\n",
        "        print(\n",
        "            f'simplified fraction = {self.simplified_numerator}/{self.simplified_denominator}')\n",
        "\n",
        "\n",
        "f = Fraction()\n",
        "f.getdata()\n",
        "f.show()"
      ]
    },
    {
      "cell_type": "markdown",
      "metadata": {
        "id": "T6wVP2ek_-23"
      },
      "source": [
        "10. Write a program that has a class Numbers with a list as an instance variable.\n",
        "    a. Write a method called insert_element that takes values from user.\n",
        "    b. Write a class method called find_max to find and print largest value in the\n",
        "    list.\n"
      ]
    },
    {
      "cell_type": "code",
      "execution_count": 7,
      "metadata": {
        "id": "ZMI_Ri-xApEx"
      },
      "outputs": [
        {
          "name": "stdout",
          "output_type": "stream",
          "text": [
            "975\n"
          ]
        }
      ],
      "source": [
        "class Numbers:\n",
        "\n",
        "    list_of_elements = []\n",
        "\n",
        "    def insert_elements(self, *vars):\n",
        "        self.list_of_elements.extend(vars)\n",
        "\n",
        "    def find_max(self):\n",
        "        print(max(self.list_of_elements))\n",
        "\n",
        "\n",
        "lis = Numbers()\n",
        "lis.insert_elements(2, 8, 87, 975, 35, 75, 78)\n",
        "lis.find_max()"
      ]
    },
    {
      "cell_type": "markdown",
      "metadata": {
        "id": "1hkT9obfGQpd"
      },
      "source": [
        "11. Write a program that has a class Point with attributes x and y.\n",
        "    a. Write a method called midpoint that returns a midpoint of a line joining two\n",
        "    points.\n",
        "    b. Write a method called length that returns the length of a line joining two\n",
        "    points.\n"
      ]
    },
    {
      "cell_type": "code",
      "execution_count": 6,
      "metadata": {
        "id": "CvGyXyURGV7l"
      },
      "outputs": [
        {
          "name": "stdout",
          "output_type": "stream",
          "text": [
            "Midpoint: (2.5, 4.0)\n",
            "Length: 5.0\n"
          ]
        }
      ],
      "source": [
        "\n",
        "\n",
        "class Point:\n",
        "    def __init__(self, x, y):\n",
        "        self.x = x\n",
        "        self.y = y\n",
        "\n",
        "    def midpoint(self, other):\n",
        "\n",
        "        return (self.x+other.x)/2, (self.y + other.y) / 2\n",
        "\n",
        "    def length(self, other):\n",
        "        return ((self.x-other.x) ** 2 + (self.y-other.y) ** 2)**0.5\n",
        "\n",
        "\n",
        "p1 = Point(1, 2)\n",
        "p2 = Point(4, 6)\n",
        "\n",
        "print(\"Midpoint:\",  p1.midpoint(p2))\n",
        "\n",
        "print(\"Length:\", p1.length(p2))"
      ]
    },
    {
      "cell_type": "markdown",
      "metadata": {
        "id": "GfJMjS8AIWdc"
      },
      "source": [
        "12. Create a class called Complex. Write a menu driven program to read, display,\n",
        "    add and subtract two complex numbers by creating corresponding instance\n",
        "    methods\n"
      ]
    },
    {
      "cell_type": "code",
      "execution_count": 19,
      "metadata": {
        "colab": {
          "base_uri": "https://localhost:8080/"
        },
        "id": "Lo_UvqF7JTUR",
        "outputId": "a4a4a88f-9f97-438e-cdac-2e7fcbca35f7"
      },
      "outputs": [
        {
          "name": "stdout",
          "output_type": "stream",
          "text": [
            "1. Read two complex numbers\n",
            "2. Display two complex numbers\n",
            "3. Add two complex numbers\n",
            "4. Subtract two complex numbers\n",
            "5. Quit\n",
            "1. Read two complex numbers\n",
            "2. Display two complex numbers\n",
            "3. Add two complex numbers\n",
            "4. Subtract two complex numbers\n",
            "5. Quit\n",
            "(-1+0j)\n",
            "1. Read two complex numbers\n",
            "2. Display two complex numbers\n",
            "3. Add two complex numbers\n",
            "4. Subtract two complex numbers\n",
            "5. Quit\n",
            "You are out.\n"
          ]
        }
      ],
      "source": [
        "class Complex:\n",
        "    def read(self):\n",
        "        self.number = complex(input(\"Enter the number: \"))\n",
        "\n",
        "    def display(self):\n",
        "        print(self.number)\n",
        "\n",
        "    def add(self, other):\n",
        "        print(self.number + other.number)\n",
        "\n",
        "    def subtract(self, other):\n",
        "        print(self.number - other.number)\n",
        "\n",
        "\n",
        "c1 = Complex()\n",
        "c2 = Complex()\n",
        "while True:\n",
        "    print(\"1. Read two complex numbers\")\n",
        "    print(\"2. Display two complex numbers\")\n",
        "    print(\"3. Add two complex numbers\")\n",
        "    print(\"4. Subtract two complex numbers\")\n",
        "    print(\"5. Quit\")\n",
        "    choice = int(input(\"Enter your choice: \"))\n",
        "\n",
        "    if choice == 1:\n",
        "        c1.read()\n",
        "        c2.read()\n",
        "    elif choice == 2:\n",
        "        print(\"Complex number 1:\")\n",
        "        c1.display()\n",
        "        print(\"Complex number 2:\")\n",
        "        c2.display()\n",
        "    elif choice == 3:\n",
        "        c1.add(c2)\n",
        "    elif choice == 4:\n",
        "        c1.subtract(c2)\n",
        "    elif choice == 5:\n",
        "        print(\"You are out.\")\n",
        "        break\n",
        "    else:\n",
        "        print(\"Enter valid choice.\")"
      ]
    },
    {
      "cell_type": "markdown",
      "metadata": {
        "id": "iaorac7GVVrv"
      },
      "source": [
        "13.Write a Program to illustrate the use of **str**(), **repr**(), **new**,\n",
        "**doc**, **dict**, **name** and **bases** methods.\n"
      ]
    },
    {
      "cell_type": "code",
      "execution_count": 4,
      "metadata": {
        "id": "W9PtVimgV7V6"
      },
      "outputs": [
        {
          "name": "stdout",
          "output_type": "stream",
          "text": [
            "None\n",
            "{'__module__': '__main__', '__new__': <staticmethod(<function Person.__new__ at 0x0000022907171940>)>, '__init__': <function Person.__init__ at 0x0000022907171D00>, '__str__': <function Person.__str__ at 0x0000022907172480>, '__repr__': <function Person.__repr__ at 0x0000022907172520>, '__dict__': <attribute '__dict__' of 'Person' objects>, '__weakref__': <attribute '__weakref__' of 'Person' objects>, '__doc__': None}\n",
            "Person\n",
            "(<class 'object'>,)\n",
            "__new__ method called\n",
            "__init__ method called\n",
            "yash (18)\n",
            "Person(name='yash', age=18)\n"
          ]
        }
      ],
      "source": [
        "\n",
        "class Person:\n",
        "\n",
        "    def __new__(self, name, age):\n",
        "        print(\"__new__ method called\")\n",
        "        instance = super().__new__(self)\n",
        "        instance.name = name\n",
        "        instance.age = age\n",
        "        return instance\n",
        "\n",
        "    def __init__(self, name, age):\n",
        "        print('__init__ method called')\n",
        "        self.name = name\n",
        "        self.age = age\n",
        "\n",
        "    def __str__(self):\n",
        "        return f\"{self.name} ({self.age})\"\n",
        "\n",
        "    def __repr__(self):\n",
        "        return f\"Person(name='{self.name}', age={self.age})\"\n",
        "\n",
        "\n",
        "print(Person.__doc__)\n",
        "print(Person.__dict__)\n",
        "print(Person.__name__)\n",
        "print(Person.__bases__)\n",
        "\n",
        "p1 = Person('yash', 18)\n",
        "print(str(p1))\n",
        "print(repr(p1))"
      ]
    },
    {
      "cell_type": "markdown",
      "metadata": {
        "id": "9ZCxk2bc3vik"
      },
      "source": [
        "14. Create a BankAccount class. Your class should support the following methods:\n",
        "    a. **init**(self, account_no)\n",
        "    b. deposit (self, account_no, amount)\n",
        "    c. withdraw (self, account_no, amount)\n",
        "    d. get_balance (self, account_no)\n"
      ]
    },
    {
      "cell_type": "code",
      "execution_count": 3,
      "metadata": {
        "id": "nDiMuIE43vBr"
      },
      "outputs": [
        {
          "name": "stdout",
          "output_type": "stream",
          "text": [
            "Total amount in your account: 10000\n",
            "Total amount in your account: 9000\n",
            "Total amount in your account: 9000\n"
          ]
        }
      ],
      "source": [
        "class BankAccount:\n",
        "    total_amount = 0\n",
        "\n",
        "    def __init__(self, account_no):\n",
        "        self.account_no = account_no\n",
        "\n",
        "    def deposit(self, account_no, amount):\n",
        "        if account_no == self.account_no:\n",
        "            self.total_amount += amount\n",
        "            print('Total amount in your account:', self.total_amount)\n",
        "\n",
        "        else:\n",
        "            print('Enter the correct account number.')\n",
        "\n",
        "    def withdraw(self, account_no, amount):\n",
        "        if account_no == self.account_no:\n",
        "            if self.total_amount >= amount:\n",
        "                self.total_amount -= amount\n",
        "                print('Total amount in your account:', self.total_amount)\n",
        "            else:\n",
        "                print(\"amount ecxeeds the total amount in your account. \")\n",
        "        else:\n",
        "            print('Enter the correct account number.')\n",
        "\n",
        "    def get_balance(self, account_no):\n",
        "        if account_no == self.account_no:\n",
        "            print('Total amount in your account:', self.total_amount)\n",
        "\n",
        "        else:\n",
        "            print('Enter the correct account number.')\n",
        "\n",
        "\n",
        "b = BankAccount(11)\n",
        "b.deposit(11, 10000)\n",
        "b.withdraw(11, 1000)\n",
        "b.get_balance(11)"
      ]
    },
    {
      "cell_type": "markdown",
      "metadata": {
        "id": "XbG-OXlL9Nx_"
      },
      "source": [
        "15. Write a program to illustrate the use of following built-in methods:\n",
        "    a. hasattr(obj,attr)\n",
        "    b. getattr(object, attribute_name [, default])\n",
        "    c. setattr(object, name, value)\n",
        "    d. delattr(class_name, name)\n"
      ]
    },
    {
      "cell_type": "code",
      "execution_count": 2,
      "metadata": {
        "id": "bS30s7dVrwzk"
      },
      "outputs": [
        {
          "name": "stdout",
          "output_type": "stream",
          "text": [
            "True\n",
            "False\n",
            "\n",
            "N/A\n",
            "person@example.com\n",
            "False\n"
          ]
        }
      ],
      "source": [
        "class Person:\n",
        "    def __init__(self):\n",
        "        self.name = input('Enter name of person: ')\n",
        "\n",
        "\n",
        "p = Person()\n",
        "\n",
        "print(hasattr(p, \"name\"))\n",
        "print(hasattr(p, \"email\"))\n",
        "\n",
        "print(getattr(p, \"name\"))\n",
        "print(getattr(p, \"email\", \"N/A\"))\n",
        "\n",
        "setattr(p, \"email\", \"person@example.com\")\n",
        "print(getattr(p, \"email\"))\n",
        "\n",
        "delattr(p, \"email\")\n",
        "print(hasattr(p, \"email\"))"
      ]
    },
    {
      "cell_type": "markdown",
      "metadata": {
        "id": "8CoeIYzn-6Qc"
      },
      "source": [
        "16. Write a program to create class Employee. Display the personal information\n",
        "    and salary details of 5 employees using single inheritance.\n"
      ]
    },
    {
      "cell_type": "code",
      "execution_count": 20,
      "metadata": {
        "id": "8nnmJeEEvj4P"
      },
      "outputs": [
        {
          "name": "stdout",
          "output_type": "stream",
          "text": [
            "\n",
            "id = 10\n",
            "name = Rachit\n",
            "age = 19\n",
            "salary = 100\n",
            "designation = Student\n",
            "\n",
            "id = 121\n",
            "name = Pratham\n",
            "age = 19\n",
            "salary = 112\n",
            "designation = Student\n",
            "\n",
            "id = 145\n",
            "name = Yash\n",
            "age = 18'\n",
            "salary = 145\n",
            "designation = Student\n",
            "\n",
            "id = 108\n",
            "name = Ayush\n",
            "age = 20\n",
            "salary = 1000\n",
            "designation = Student\n",
            "\n",
            "id = 69\n",
            "name = Krishna\n",
            "age = 17\n",
            "salary = 69\n",
            "designation = Student\n"
          ]
        }
      ],
      "source": [
        "\n",
        "class Employee:\n",
        "\n",
        "    def __init__(self):\n",
        "        self.d = {'id': '', 'name': '', 'age': '',\n",
        "                  'salary': '', 'designation': ''}\n",
        "        for k, v in self.d.items():\n",
        "            self.d[k] = input(f'Enter the {k} of employee: ')\n",
        "\n",
        "\n",
        "class Employee_data(Employee):\n",
        "    def display(self):\n",
        "        for k, v in self.d.items():\n",
        "            print(f'{k} = {v}')\n",
        "\n",
        "\n",
        "e = [Employee_data(),\n",
        "     Employee_data(),\n",
        "     Employee_data(),\n",
        "     Employee_data(),\n",
        "     Employee_data()]\n",
        "for i in e:\n",
        "    print()\n",
        "    i.display()"
      ]
    },
    {
      "cell_type": "markdown",
      "metadata": {
        "id": "sDTJbyXw8Uia"
      },
      "source": [
        "17. WAP that extends the class Employee. Derive two classes Manager and Team\n",
        "    Leader from Employee class. Display all the details of the employee working\n",
        "    under a particular Manager and Team Leader.\n"
      ]
    },
    {
      "cell_type": "code",
      "execution_count": 30,
      "metadata": {
        "colab": {
          "base_uri": "https://localhost:8080/"
        },
        "id": "WCI_b8ik-aD7",
        "outputId": "321dc50b-cba9-4149-f16c-1dc9bcc36f6b"
      },
      "outputs": [
        {
          "name": "stdout",
          "output_type": "stream",
          "text": [
            "Mike \n",
            "ID: 5 \n",
            "salary: 75000 \n",
            "designation: Manager \n",
            "team: A\n",
            "\n",
            "Mike is leading the following employees:\n",
            "\n",
            "John \n",
            "ID: 1 \n",
            "salary: 50000\n",
            "\n",
            "Jane \n",
            "ID: 2 \n",
            "salary: 60000\n",
            "\n",
            "Tom \n",
            "ID: 6 \n",
            "salary: 70000 \n",
            "designation: Team Leader \n",
            "team: B\n",
            "\n",
            "Tom is leading the following employees:\n",
            "\n",
            "Bob \n",
            "ID: 3 \n",
            "salary: 55000\n",
            "\n",
            "Alice \n",
            "ID: 4 \n",
            "salary: 65000\n",
            "\n"
          ]
        }
      ],
      "source": [
        "\n",
        "\n",
        "class Employee:\n",
        "    d = {chr(i): [] for i in range(65, 91)}\n",
        "\n",
        "    def __init__(self, name, emp_id, salary):\n",
        "        self.name = name\n",
        "        self.emp_id = emp_id\n",
        "        self.salary = salary\n",
        "\n",
        "    def team(self, obj, team):\n",
        "        self.d[team].append(obj)\n",
        "\n",
        "\n",
        "class Manager(Employee):\n",
        "    def __init__(self, name, emp_id, salary, team):\n",
        "        super().__init__(name, emp_id, salary)\n",
        "        self.designation = 'Manager'\n",
        "        self.team = team\n",
        "\n",
        "    def display_team(self):\n",
        "        print(f\"{self.name} \\nID: {self.emp_id} \\nsalary: {self.salary} \\ndesignation: {self.designation} \\nteam: {self.team}\")\n",
        "        print()\n",
        "\n",
        "        print(f\"{self.name} is leading the following employees:\")\n",
        "        print()\n",
        "        for emp in self.d[self.team]:\n",
        "            print(f\"{emp.name} \\nID: {emp.emp_id} \\nsalary: {emp.salary}\")\n",
        "            print()\n",
        "\n",
        "\n",
        "class TeamLeader(Employee):\n",
        "    def __init__(self, name, emp_id, salary, team):\n",
        "        super().__init__(name, emp_id, salary)\n",
        "        self.team = team\n",
        "        self.designation = 'Team Leader'\n",
        "\n",
        "    def display_team(self):\n",
        "        print(f\"{self.name} \\nID: {self.emp_id} \\nsalary: {self.salary} \\ndesignation: {self.designation} \\nteam: {self.team}\")\n",
        "        print()\n",
        "\n",
        "        print(f\"{self.name} is leading the following employees:\")\n",
        "        print()\n",
        "        for emp in self.d[self.team]:\n",
        "            print(f\"{emp.name} \\nID: {emp.emp_id} \\nsalary: {emp.salary}\")\n",
        "            print()\n",
        "\n",
        "\n",
        "emp1 = Employee(\"John\", 1, 50000)\n",
        "emp1.team(emp1, 'A')\n",
        "emp2 = Employee(\"Jane\", 2, 60000)\n",
        "emp2.team(emp2, 'A')\n",
        "emp3 = Employee(\"Bob\", 3, 55000)\n",
        "emp3.team(emp3, 'B')\n",
        "emp4 = Employee(\"Alice\", 4, 65000)\n",
        "emp4.team(emp4, 'B')\n",
        "mgr = Manager(\"Mike\", 5, 75000, 'A')\n",
        "tl = TeamLeader(\"Tom\", 6, 70000, 'B')\n",
        "\n",
        "mgr.display_team()\n",
        "tl.display_team()"
      ]
    },
    {
      "cell_type": "markdown",
      "metadata": {
        "id": "VZAvn3x61_Ps"
      },
      "source": [
        "18. Write a program that has a class Point. Define another class Location which has two objects (Location and destination) of class Point. Also, define a function in Location that prints the reflection on the y-axis.\n"
      ]
    },
    {
      "cell_type": "code",
      "execution_count": 29,
      "metadata": {
        "colab": {
          "base_uri": "https://localhost:8080/"
        },
        "id": "NLWoyDO41_Fu",
        "outputId": "a81d9c6a-9418-4351-c27e-eddd533b8f7f"
      },
      "outputs": [
        {
          "name": "stdout",
          "output_type": "stream",
          "text": [
            "Reflected location: (-2, 3)\n",
            "Reflected des: (-5, 7)\n"
          ]
        }
      ],
      "source": [
        "\n",
        "\n",
        "class Point:\n",
        "    def __init__(self, x, y):\n",
        "        self.x = x\n",
        "        self.y = y\n",
        "\n",
        "\n",
        "class Location:\n",
        "    def __init__(self, c_l, des):\n",
        "        self.c_l = c_l\n",
        "        self.des = des\n",
        "\n",
        "    def print_y_axis_reflection(self):\n",
        "        r_l = Point(-self.c_l.x, self.c_l.y)\n",
        "        r_d = Point(-self.des.x, self.des.y)\n",
        "        r_ls = f\"({r_l.x}, {r_l.y})\"\n",
        "        r_ds = f\"({r_d.x}, {r_d.y})\"\n",
        "        print(f\"Reflected location: {r_ls}\")\n",
        "        print(f\"Reflected des: {r_ds}\")\n",
        "\n",
        "\n",
        "l = Point(2, 3)\n",
        "des = Point(5, 7)\n",
        "location = Location(l, des)\n",
        "location.print_y_axis_reflection()"
      ]
    },
    {
      "cell_type": "markdown",
      "metadata": {
        "id": "b6VvWdqsfe_k"
      },
      "source": [
        "19. WAP that create a class Student having attribute as name and age and Marks\n",
        "    class inheriting Students class with its own attributes marks1, marks2 and\n",
        "    marks3 as marks in 3 subjects. Also, define the class Result that inherits the\n",
        "    Marks class with its own attribute total. Every class has its own display()\n",
        "    method to display the corresponding details. Use **init**() and super() to\n",
        "    implement the above classes.\n"
      ]
    },
    {
      "cell_type": "code",
      "execution_count": 21,
      "metadata": {
        "id": "jM6kyAm2fnK4"
      },
      "outputs": [
        {
          "name": "stdout",
          "output_type": "stream",
          "text": [
            "Name:  Rachit\n",
            "Age:  18\n",
            "marks in subject 1:  89\n",
            "marks in subject 2:  89\n",
            "marks in subject 3:  89\n",
            "total marks:  267\n"
          ]
        }
      ],
      "source": [
        "\n",
        "class Student:\n",
        "\n",
        "    def __init__(self):\n",
        "        self.name = input('Enter name: ')\n",
        "        self.age = int(input('Enter age: '))\n",
        "\n",
        "    def display(self):\n",
        "        print('Name: ', self.name)\n",
        "        print('Age: ', self.age)\n",
        "\n",
        "\n",
        "class Marks(Student):\n",
        "\n",
        "    def __init__(self):\n",
        "        super().__init__()\n",
        "        self.m1 = int(input('Enter marks in Subject 1: '))\n",
        "        self.m2 = int(input('Enter marks in Subject 2: '))\n",
        "        self.m3 = int(input('Enter marks in Subject 3: '))\n",
        "\n",
        "    def display(self):\n",
        "        super().display()\n",
        "        print('marks in subject 1: ', self.m1)\n",
        "        print('marks in subject 2: ', self.m2)\n",
        "        print('marks in subject 3: ', self.m3)\n",
        "\n",
        "\n",
        "class Result(Marks):\n",
        "\n",
        "    def __init__(self):\n",
        "        super().__init__()\n",
        "        self.total_marks = self.m1 + self.m2 + self.m3\n",
        "\n",
        "    def display(self):\n",
        "        super().display()\n",
        "        print('total marks: ', self.total_marks)\n",
        "\n",
        "\n",
        "st1 = Result()\n",
        "st1.display()"
      ]
    },
    {
      "cell_type": "markdown",
      "metadata": {
        "id": "rpoTIJxrl9o6"
      },
      "source": [
        "20. Write a program that create a class Distance with members km and metres.\n",
        "    Derive classes School and office which store the distance from your house to\n",
        "    school and office along with other details.\n"
      ]
    },
    {
      "cell_type": "code",
      "execution_count": 22,
      "metadata": {
        "colab": {
          "base_uri": "https://localhost:8080/"
        },
        "id": "GR5leaKtmG_b",
        "outputId": "425ea616-dbab-4698-9fcc-3dfe886ed75d"
      },
      "outputs": [
        {
          "name": "stdout",
          "output_type": "stream",
          "text": [
            "distance of fhh from home is 5 kilometre and 65 metres.\n",
            "distance of dnhfg from home is 10 kilometre and 658 metres.\n"
          ]
        }
      ],
      "source": [
        "class Distance:\n",
        "    km = 0\n",
        "    metres = 0\n",
        "\n",
        "\n",
        "class School(Distance):\n",
        "    def __init__(self, n, k, m):\n",
        "        self.name = n\n",
        "        self.km = k\n",
        "        self.m = m\n",
        "        print(\n",
        "            f'distance of {self.name} from home is {self.km} kilometre and {self.m} metres.')\n",
        "\n",
        "\n",
        "class Office(Distance):\n",
        "    def __init__(self, n, k, m):\n",
        "        self.name = n\n",
        "        self.km = k\n",
        "        self.m = m\n",
        "        print(\n",
        "            f'distance of {self.name} from home is {self.km} kilometre and {self.m} metres.')\n",
        "\n",
        "\n",
        "S = School('fhh', 5, 65)\n",
        "O = Office('dnhfg', 10, 658)"
      ]
    },
    {
      "cell_type": "markdown",
      "metadata": {
        "id": "cC8HtwxlAoeG"
      },
      "source": [
        "21. Write a program to create an abstract class Vehicle. Derive three classes Car, Motorcycle and Truck from it. Define appropriate methods and print the details of vehicle.\n"
      ]
    },
    {
      "cell_type": "code",
      "execution_count": 23,
      "metadata": {
        "id": "rEBtXwx4AsBX"
      },
      "outputs": [
        {
          "name": "stdout",
          "output_type": "stream",
          "text": [
            "Vehicle =  Car\n",
            "Company name = maruti suzuki\n",
            "Vehicle name = swift\n",
            "Model = 2023\n",
            "Mileage= 25\n",
            "Vehicle =  Motorcycle\n",
            "Company name = kkawasaki\n",
            "Vehicle name = Ninja H2R\n",
            "Model = 2023\n",
            "Mileage= 15\n",
            "Vehicle =  Truck\n",
            "Company name = Ashok Leyland\n",
            "Vehicle name = dhanno\n",
            "Model = 2023\n",
            "Mileage= 10\n"
          ]
        }
      ],
      "source": [
        "from abc import ABC, abstractmethod\n",
        "\n",
        "\n",
        "class Vehicle(ABC):\n",
        "\n",
        "    @abstractmethod\n",
        "    def __init__(self):\n",
        "        raise NotImplementedError\n",
        "\n",
        "    @abstractmethod\n",
        "    def display(self):\n",
        "        raise NotImplementedError\n",
        "\n",
        "\n",
        "class Car(Vehicle):\n",
        "\n",
        "    def __init__(self, company_name, vehicle_name, model, mileage):\n",
        "        self.vehicle = 'Car'\n",
        "        self.company_name = company_name\n",
        "        self.vehicle_name = vehicle_name\n",
        "        self.model = model\n",
        "        self.mileage = mileage\n",
        "\n",
        "    def display(self):\n",
        "        print('Vehicle = ', self.vehicle)\n",
        "        print('Company name =', self.company_name)\n",
        "        print('Vehicle name =', self.vehicle_name)\n",
        "        print('Model =', self.model)\n",
        "        print('Mileage=', self.mileage)\n",
        "\n",
        "\n",
        "class Motorcycle(Vehicle):\n",
        "\n",
        "    def __init__(self, company_name, vehicle_name, model, mileage):\n",
        "        self.vehicle = 'Motorcycle'\n",
        "        self.company_name = company_name\n",
        "        self.vehicle_name = vehicle_name\n",
        "        self.model = model\n",
        "        self.mileage = mileage\n",
        "\n",
        "    def display(self):\n",
        "        print('Vehicle = ', self.vehicle)\n",
        "        print('Company name =', self.company_name)\n",
        "        print('Vehicle name =', self.vehicle_name)\n",
        "        print('Model =', self.model)\n",
        "        print('Mileage=', self.mileage)\n",
        "\n",
        "\n",
        "class Truck(Vehicle):\n",
        "\n",
        "    def __init__(self, company_name, vehicle_name, model, mileage):\n",
        "        self.vehicle = 'Truck'\n",
        "        self.company_name = company_name\n",
        "        self.vehicle_name = vehicle_name\n",
        "        self.model = model\n",
        "        self.mileage = mileage\n",
        "\n",
        "    def display(self):\n",
        "        print('Vehicle = ', self.vehicle)\n",
        "        print('Company name =', self.company_name)\n",
        "        print('Vehicle name =', self.vehicle_name)\n",
        "        print('Model =', self.model)\n",
        "        print('Mileage=', self.mileage)\n",
        "\n",
        "\n",
        "C = Car('maruti suzuki', 'swift', 2023, 25)\n",
        "C.display()\n",
        "\n",
        "M = Motorcycle('kkawasaki', 'Ninja H2R', 2023, 15)\n",
        "M.display()\n",
        "\n",
        "T = Truck('Ashok Leyland', 'dhanno', 2023, 10)\n",
        "T.display()"
      ]
    },
    {
      "cell_type": "markdown",
      "metadata": {
        "id": "zcw0HhMAEzbV"
      },
      "source": [
        "22. Write a program that has a class Polygon. Derive two classes Rectangle and triangle from polygon and write methods to get the details of their dimensions and hence calculate the area.\n"
      ]
    },
    {
      "cell_type": "code",
      "execution_count": 24,
      "metadata": {
        "colab": {
          "base_uri": "https://localhost:8080/"
        },
        "id": "H090PHabGbkt",
        "outputId": "299b0a23-3713-43cb-b4f3-50852c8b3a06"
      },
      "outputs": [
        {
          "name": "stdout",
          "output_type": "stream",
          "text": [
            "Rectangle dimensions: [10, 5]\n",
            "Rectangle area: 50\n",
            "Triangle dimensions: [8, 6]\n",
            "Triangle area: 24.0\n"
          ]
        }
      ],
      "source": [
        "class Polygon:\n",
        "    def __init__(self, num_sides):\n",
        "        self.num_sides = num_sides\n",
        "        self.dimensions = []\n",
        "\n",
        "\n",
        "class Rectangle(Polygon):\n",
        "    def __init__(self, length, width):\n",
        "        super().__init__(4)\n",
        "        self.dimensions.append(length)\n",
        "        self.dimensions.append(width)\n",
        "\n",
        "    def area(self):\n",
        "        return self.dimensions[0] * self.dimensions[1]\n",
        "\n",
        "\n",
        "class Triangle(Polygon):\n",
        "    def __init__(self, base, height):\n",
        "        super().__init__(3)\n",
        "        self.dimensions.append(base)\n",
        "        self.dimensions.append(height)\n",
        "\n",
        "    def area(self):\n",
        "        return 0.5 * self.dimensions[0] * self.dimensions[1]\n",
        "\n",
        "\n",
        "r = Rectangle(10, 5)\n",
        "print(f\"Rectangle dimensions: {r.dimensions}\")\n",
        "print(f\"Rectangle area: {r.area()}\")\n",
        "\n",
        "t = Triangle(8, 6)\n",
        "print(f\"Triangle dimensions: {t.dimensions}\")\n",
        "print(f\"Triangle area: {t.area()}\")"
      ]
    },
    {
      "cell_type": "markdown",
      "metadata": {
        "id": "yFtklPBbIQMP"
      },
      "source": [
        "23. Write a program that extends the class Shape to calculate the area of a circle and a cone .(use super to inherit base class methods)\n"
      ]
    },
    {
      "cell_type": "code",
      "execution_count": 25,
      "metadata": {
        "colab": {
          "base_uri": "https://localhost:8080/"
        },
        "id": "dd_xvj4WIPgI",
        "outputId": "7bf5ce69-744f-41a7-932d-343ebf9da1b4"
      },
      "outputs": [
        {
          "name": "stdout",
          "output_type": "stream",
          "text": [
            "Circle 1 area: 78.5\n",
            "Cone 1 area: 75.36\n"
          ]
        }
      ],
      "source": [
        "\n",
        "\n",
        "class Shape:\n",
        "    def __init__(self, name):\n",
        "        self.name = name\n",
        "\n",
        "    def get_name(self):\n",
        "        return self.name\n",
        "\n",
        "\n",
        "class Circle(Shape):\n",
        "    def __init__(self, name, radius):\n",
        "        super().__init__(name)\n",
        "        self.radius = radius\n",
        "\n",
        "    def get_area(self):\n",
        "        return 3.14 * self.radius ** 2\n",
        "\n",
        "\n",
        "class Cone(Shape):\n",
        "    def __init__(self, name, radius, height):\n",
        "        super().__init__(name)\n",
        "        self.radius = radius\n",
        "        self.height = height\n",
        "\n",
        "    def get_area(self):\n",
        "        return 3.14 * self.radius ** 2 + 3.14 * self.radius * ((self.radius ** 2 + self.height ** 2)**0.5)\n",
        "\n",
        "\n",
        "circle = Circle(\"Circle 1\", 5)\n",
        "print(f\"{circle.get_name()} area: {circle.get_area()}\")\n",
        "\n",
        "cone = Cone(\"Cone 1\", 3, 4)\n",
        "print(f\"{cone.get_name()} area: {cone.get_area()}\")"
      ]
    },
    {
      "cell_type": "markdown",
      "metadata": {
        "id": "k7QXxBAKKOmI"
      },
      "source": [
        "24. Write a program to demonstrate hybrid inheritance and show MRO for each class\n"
      ]
    },
    {
      "cell_type": "code",
      "execution_count": 1,
      "metadata": {
        "colab": {
          "base_uri": "https://localhost:8080/"
        },
        "id": "NwbxkOApKI9I",
        "outputId": "2b1fd26d-d449-450a-8429-391274b5c288"
      },
      "outputs": [
        {
          "name": "stdout",
          "output_type": "stream",
          "text": [
            "mig can run\n",
            "mig can fly\n",
            "mig is a vehicle\n",
            "[<class '__main__.Both'>, <class '__main__.Run'>, <class '__main__.Fly'>, <class '__main__.Vehicle'>, <class 'object'>]\n",
            "[<class '__main__.Run'>, <class '__main__.Vehicle'>, <class 'object'>]\n",
            "[<class '__main__.Fly'>, <class '__main__.Vehicle'>, <class 'object'>]\n",
            "[<class '__main__.Vehicle'>, <class 'object'>]\n"
          ]
        }
      ],
      "source": [
        "class Vehicle:\n",
        "    def __init__(self, name):\n",
        "        print(name, 'is a vehicle')\n",
        "\n",
        "\n",
        "class Run(Vehicle):\n",
        "    def __init__(self, name):\n",
        "        print(name, 'can run')\n",
        "        super().__init__(name)\n",
        "\n",
        "\n",
        "class Fly(Vehicle):\n",
        "    def __init__(self, name):\n",
        "        print(name, 'can fly')\n",
        "        super().__init__(name)\n",
        "\n",
        "\n",
        "class Both(Run, Fly):\n",
        "    def __init__(self, name):\n",
        "        super().__init__(name)\n",
        "\n",
        "\n",
        "V = Both('mig')\n",
        "print(Both.mro())\n",
        "print(Run.mro())\n",
        "print(Fly.mro())\n",
        "print(Vehicle.mro())"
      ]
    },
    {
      "cell_type": "markdown",
      "metadata": {
        "id": "Q-5JSk_1Kd1X"
      },
      "source": [
        "25. Write a program to overload + operator to multiply two fraction object of fraction class which contain two instance variable numerator and denominator. Also, define the instance method simplify() to simplify the fraction objects.\n"
      ]
    },
    {
      "cell_type": "code",
      "execution_count": 2,
      "metadata": {
        "colab": {
          "base_uri": "https://localhost:8080/"
        },
        "id": "mgPLgPbT5N0A",
        "outputId": "c259128f-4896-4ca1-fdde-ff01f8c0f65b"
      },
      "outputs": [
        {
          "name": "stdout",
          "output_type": "stream",
          "text": [
            "simplified fraction = 2/3\n",
            "simplified fraction = 3/7\n",
            "simplified fraction = 2/7\n"
          ]
        }
      ],
      "source": [
        "import math\n",
        "\n",
        "\n",
        "class Fraction:\n",
        "    numerator = 0\n",
        "    denominator = 0\n",
        "\n",
        "    def __init__(self, numerator, denominator):\n",
        "        self.numerator = numerator\n",
        "        self.denominator = denominator\n",
        "        if self.denominator == 0:\n",
        "            raise ZeroDivisionError(\"denominator can not be 0\")\n",
        "\n",
        "    def simplify(self):\n",
        "\n",
        "        self.common_divisor = math.gcd(self.numerator, self.denominator)\n",
        "        self.simplified_numerator = self.numerator // self.common_divisor\n",
        "        self.simplified_denominator = self.denominator // self.common_divisor\n",
        "        print(\n",
        "            f'simplified fraction = {self.simplified_numerator}/{self.simplified_denominator}')\n",
        "\n",
        "    def __add__(self, other):\n",
        "        F = Fraction(self.numerator*other.numerator,\n",
        "                     self.denominator*other.denominator)\n",
        "\n",
        "        return F\n",
        "\n",
        "\n",
        "f1 = Fraction(4, 6)\n",
        "f2 = Fraction(3, 7)\n",
        "f3 = f1 + f2\n",
        "f1.simplify()\n",
        "f2.simplify()\n",
        "f3.simplify()"
      ]
    },
    {
      "cell_type": "markdown",
      "metadata": {
        "id": "Q0bKDeEAJIM1"
      },
      "source": [
        "26. Write a program to compare two-person object based on their age by overloading > operator.\n"
      ]
    },
    {
      "cell_type": "code",
      "execution_count": 27,
      "metadata": {
        "colab": {
          "base_uri": "https://localhost:8080/"
        },
        "id": "AOF5aiU4JH8t",
        "outputId": "902525a5-a58c-4ec5-f028-c0258f204aa6"
      },
      "outputs": [
        {
          "name": "stdout",
          "output_type": "stream",
          "text": [
            "Arpit is older\n"
          ]
        }
      ],
      "source": [
        "class Person:\n",
        "    def __init__(self, name, age):\n",
        "        self.name = name\n",
        "        self.age = age\n",
        "\n",
        "    def __gt__(self, other):\n",
        "        if self.age > other.age:\n",
        "            return self.name+' is older'\n",
        "        else:\n",
        "            return other.name + ' is older'\n",
        "\n",
        "\n",
        "P1 = Person('Arpit', 19)\n",
        "P2 = Person('Yash', 18)\n",
        "print(P1 > P2)"
      ]
    },
    {
      "cell_type": "markdown",
      "metadata": {
        "id": "G8BDiPhZL-OO"
      },
      "source": [
        "27. Write a program to overload in operator.\n"
      ]
    },
    {
      "cell_type": "code",
      "execution_count": 28,
      "metadata": {
        "colab": {
          "base_uri": "https://localhost:8080/"
        },
        "id": "LYxpJKvGMET8",
        "outputId": "4d9734d8-8450-45d5-8a3c-d6deda00f0b4"
      },
      "outputs": [
        {
          "name": "stdout",
          "output_type": "stream",
          "text": [
            "True\n",
            "False\n"
          ]
        }
      ],
      "source": [
        "class MyClass:\n",
        "    def __init__(self, values):\n",
        "        self.values = values\n",
        "\n",
        "    def __contains__(self, item):\n",
        "        return item in self.values\n",
        "\n",
        "\n",
        "my_obj = MyClass([1, 2, 3, 4, 5])\n",
        "\n",
        "print(3 in my_obj)\n",
        "print(6 in my_obj)"
      ]
    },
    {
      "cell_type": "markdown",
      "metadata": {
        "id": "x9Pnij85PXVd"
      },
      "source": [
        "28. WAP to create a Complex class having real and imaginary as it attributes. Overload the +,-,/,\\* and += operators for objects of Complex class.\n"
      ]
    },
    {
      "cell_type": "code",
      "execution_count": 29,
      "metadata": {
        "colab": {
          "base_uri": "https://localhost:8080/"
        },
        "id": "MN2EyQjEPXKN",
        "outputId": "aaba736f-cc3a-4fb1-bb03-aec6d0531cc4"
      },
      "outputs": [
        {
          "name": "stdout",
          "output_type": "stream",
          "text": [
            "7 + j5\n",
            "-3 + j1\n",
            "4 + j19\n",
            "0.5517241379310345 + j0.3793103448275862\n",
            "(7, 5)\n"
          ]
        }
      ],
      "source": [
        "class Complex:\n",
        "    r = 0\n",
        "    i = 0\n",
        "\n",
        "    def __init__(self, r, i):\n",
        "        self.r = r\n",
        "        self.i = i\n",
        "\n",
        "    def __add__(self, other):\n",
        "        return f'{self.r+other.r} + j{self.i+other.i}'\n",
        "\n",
        "    def __sub__(self, other):\n",
        "        return f'{self.r-other.r} + j{self.i-other.i}'\n",
        "\n",
        "    def __truediv__(self, other):\n",
        "        a = other.r**2 + other.i**2\n",
        "        return f'{((self.r*other.r)+(self.i*other.i))/a} + j{((self.i*other.r) - (self.r*other.i))/a}'\n",
        "\n",
        "    def __mul__(self, other):\n",
        "        return f'{(self.r*other.r)-(self.i*other.i)} + j{(self.r*other.i)+(self.i*other.r)}'\n",
        "\n",
        "    def __iadd__(self, other):\n",
        "        self.r = self.r + other.r\n",
        "        self.i = self.i + other.i\n",
        "        return self.r, self.i\n",
        "\n",
        "\n",
        "C1 = Complex(2, 3)\n",
        "C2 = Complex(5, 2)\n",
        "print(C1+C2)\n",
        "print(C1-C2)\n",
        "\n",
        "print(C1*C2)\n",
        "print(C1/C2)\n",
        "C1 += C2\n",
        "print(C1)"
      ]
    },
    {
      "cell_type": "markdown",
      "metadata": {
        "id": "cfCCiLGX5A1p"
      },
      "source": [
        "29. Write a program to inspect the object using type() ,id(), isinstance(), issubclass() and callable() built-in function.\n"
      ]
    },
    {
      "cell_type": "code",
      "execution_count": 30,
      "metadata": {
        "id": "Gpm3y_tk5BhT"
      },
      "outputs": [
        {
          "name": "stdout",
          "output_type": "stream",
          "text": [
            "<class '__main__.Marks'>\n",
            "2375236006992\n",
            "True\n",
            "True\n",
            "True\n"
          ]
        }
      ],
      "source": [
        "class Student:\n",
        "    def __init__(self, name, age):\n",
        "        self.name = name\n",
        "        self.age = age\n",
        "\n",
        "\n",
        "class Marks(Student):\n",
        "    def __init__(self, name, age, m1, m2, m3):\n",
        "        super().__init__(name, age)\n",
        "        self.m1 = m1\n",
        "        self.m2 = m2\n",
        "        self.m3 = m3\n",
        "\n",
        "    def __call__(self, age):\n",
        "        self.age = age\n",
        "\n",
        "\n",
        "S = Marks('Arpit', 18, 95, 94, 93)\n",
        "print(type(S))\n",
        "print(id(S))\n",
        "print(isinstance(S, Marks))\n",
        "print(issubclass(Marks, Student))\n",
        "print(callable(S))"
      ]
    },
    {
      "cell_type": "markdown",
      "metadata": {
        "id": "QUx-hnM-_PLB"
      },
      "source": [
        "30. WAP to inspect the program code using the functions of inspect module.\n"
      ]
    },
    {
      "cell_type": "code",
      "execution_count": 31,
      "metadata": {
        "id": "8tAOwviS_PnO"
      },
      "outputs": [
        {
          "name": "stdout",
          "output_type": "stream",
          "text": [
            "True\n",
            "False\n",
            "True\n",
            "False\n",
            "True\n",
            "True\n"
          ]
        }
      ],
      "source": [
        "import inspect\n",
        "\n",
        "\n",
        "class Student:\n",
        "    def __init__(self, name, age):\n",
        "        self.name = name\n",
        "        self.age = age\n",
        "\n",
        "    def display(self):\n",
        "        print('Name:', self.name)\n",
        "        print('Age:', self.age)\n",
        "\n",
        "\n",
        "def func():\n",
        "    print('hello')\n",
        "\n",
        "\n",
        "S = Student('Arpit', 18)\n",
        "print(inspect.isclass(Student))\n",
        "print(inspect.isclass(S))\n",
        "print(inspect.ismethod(S.display))\n",
        "print(inspect.ismethod(func))\n",
        "print(inspect.isroutine(S.display))\n",
        "print(inspect.isroutine(func))"
      ]
    },
    {
      "cell_type": "markdown",
      "metadata": {
        "id": "axHHbfenBkHC"
      },
      "source": [
        "31. Write a program to create a new list containing the first letters of every element in an already existing list.\n"
      ]
    },
    {
      "cell_type": "code",
      "execution_count": 32,
      "metadata": {
        "id": "FpNNfv5qBkjs"
      },
      "outputs": [
        {
          "name": "stdout",
          "output_type": "stream",
          "text": [
            "['a', 'b', 'c', 'd']\n"
          ]
        }
      ],
      "source": [
        "l1 = ['apple', 'banana', 'cherry', 'date']\n",
        "l2 = [word[0] for word in l1]\n",
        "\n",
        "print(l2)"
      ]
    },
    {
      "cell_type": "markdown",
      "metadata": {
        "id": "QLlcMcA8GZp9"
      },
      "source": [
        "32. Write a program using reduce() function to calculate the sum of first 10 natural\n",
        "    numbers\n"
      ]
    },
    {
      "cell_type": "code",
      "execution_count": 33,
      "metadata": {
        "id": "nANOFdDuGZ6X"
      },
      "outputs": [
        {
          "name": "stdout",
          "output_type": "stream",
          "text": [
            "55\n"
          ]
        }
      ],
      "source": [
        "\n",
        "from functools import reduce\n",
        "l1 = [1, 2, 3, 4, 5, 6, 7, 8, 9, 10]\n",
        "l2 = reduce(lambda x, y: x+y, l1)\n",
        "print(l2)"
      ]
    },
    {
      "cell_type": "markdown",
      "metadata": {
        "id": "VlTJPPOvqTAY"
      },
      "source": [
        "33. Write a program that convert a list of temperatures in Celsius into Fahrenheit\n",
        "    using map() function.\n"
      ]
    },
    {
      "cell_type": "code",
      "execution_count": 34,
      "metadata": {
        "id": "UhVm7e_JqZET"
      },
      "outputs": [
        {
          "name": "stdout",
          "output_type": "stream",
          "text": [
            "[77.0, 89.6, 66.2, 80.6, 104.0, -40.0]\n"
          ]
        }
      ],
      "source": [
        "\n",
        "l1 = [25, 32, 19, 27, 40, -40]\n",
        "l2 = list(map(lambda x: ((9/5)*x)+32, l1))\n",
        "print(l2)"
      ]
    },
    {
      "cell_type": "markdown",
      "metadata": {
        "id": "L0abpfg1tw1-"
      },
      "source": [
        "34. Write a program that creates an iterator to print squares of numbers.\n"
      ]
    },
    {
      "cell_type": "code",
      "execution_count": 35,
      "metadata": {
        "colab": {
          "base_uri": "https://localhost:8080/"
        },
        "id": "OPjQD8gYuZYC",
        "outputId": "c09501c5-82f0-4f8e-88f7-bef70e767556"
      },
      "outputs": [
        {
          "name": "stdout",
          "output_type": "stream",
          "text": [
            "1\n",
            "4\n",
            "9\n",
            "16\n",
            "25\n",
            "36\n",
            "49\n",
            "64\n",
            "81\n",
            "100\n"
          ]
        }
      ],
      "source": [
        "class Square_Iterator:\n",
        "    def __init__(self, limit):\n",
        "        self.limit = limit\n",
        "\n",
        "    def __iter__(self):\n",
        "        self.a = 1\n",
        "        return self\n",
        "\n",
        "    def __next__(self):\n",
        "        if self.limit >= self.a:\n",
        "            x = self.a\n",
        "            self.a += 1\n",
        "            return x**2\n",
        "        else:\n",
        "            raise StopIteration\n",
        "\n",
        "\n",
        "S = Square_Iterator(10)\n",
        "for i in S:\n",
        "    print(i)"
      ]
    },
    {
      "cell_type": "markdown",
      "metadata": {
        "id": "ECtuNvKJ93j_"
      },
      "source": [
        "35. Write a program that create a custom iterator to create even numbers.\n"
      ]
    },
    {
      "cell_type": "code",
      "execution_count": 36,
      "metadata": {
        "colab": {
          "base_uri": "https://localhost:8080/"
        },
        "id": "pgPnlWEE94sE",
        "outputId": "f25e7723-5e46-46db-bf49-141b227ad089"
      },
      "outputs": [
        {
          "name": "stdout",
          "output_type": "stream",
          "text": [
            "None\n",
            "2\n",
            "4\n",
            "6\n",
            "8\n",
            "10\n"
          ]
        }
      ],
      "source": [
        "class Even_Iterator:\n",
        "    def __init__(self, start, end):\n",
        "        self.start = start\n",
        "        self.end = end\n",
        "\n",
        "    def __iter__(self):\n",
        "        self.a = self.start\n",
        "        return self\n",
        "\n",
        "    def __next__(self):\n",
        "        if self.end >= self.a:\n",
        "            if self.a % 2 == 0:\n",
        "                x = self.a\n",
        "                self.a += 2\n",
        "                return x\n",
        "            else:\n",
        "                self.a += 1\n",
        "        else:\n",
        "            raise StopIteration\n",
        "\n",
        "\n",
        "E = Even_Iterator(1, 10)\n",
        "for i in E:\n",
        "    print(i)"
      ]
    },
    {
      "cell_type": "markdown",
      "metadata": {
        "id": "qQpkSCX0BqzF"
      },
      "source": [
        "36. Write a program to create a generator that starts counting from 0 and raise an exception when counter is equal to 10.\n"
      ]
    },
    {
      "cell_type": "code",
      "execution_count": 37,
      "metadata": {
        "id": "-knWALvgCnIH"
      },
      "outputs": [
        {
          "name": "stdout",
          "output_type": "stream",
          "text": [
            "0\n",
            "1\n",
            "2\n",
            "3\n",
            "4\n",
            "5\n",
            "6\n",
            "7\n",
            "8\n",
            "9\n",
            "Counter reached 10\n"
          ]
        }
      ],
      "source": [
        "def counter_generator():\n",
        "    c = 0\n",
        "    while True:\n",
        "        if c == 10:\n",
        "            raise Exception(\"Counter reached 10\")\n",
        "        yield c\n",
        "        c += 1\n",
        "\n",
        "\n",
        "try:\n",
        "    for i in counter_generator():\n",
        "        print(i)\n",
        "except Exception as e:\n",
        "    print(e)"
      ]
    },
    {
      "cell_type": "markdown",
      "metadata": {
        "id": "ZL7N_U7BIkiN"
      },
      "source": [
        "37. Write a program to create a generator to print the Fibonacci number.\n"
      ]
    },
    {
      "cell_type": "code",
      "execution_count": 38,
      "metadata": {
        "id": "6Rr1xwk4IkWH"
      },
      "outputs": [
        {
          "name": "stdout",
          "output_type": "stream",
          "text": [
            "0\n",
            "1\n",
            "1\n",
            "2\n",
            "3\n",
            "5\n",
            "8\n",
            "13\n",
            "21\n",
            "34\n"
          ]
        }
      ],
      "source": [
        "def fibonacci_generator(n):\n",
        "    a = 0\n",
        "    b = 1\n",
        "    c = 0\n",
        "    count = 1\n",
        "    while (count <= n):\n",
        "        count += 1\n",
        "        yield a\n",
        "        c = a + b\n",
        "        a = b\n",
        "        b = c\n",
        "\n",
        "\n",
        "for i in fibonacci_generator(10):\n",
        "    print(i)"
      ]
    },
    {
      "cell_type": "markdown",
      "metadata": {
        "id": "qBaenYAzQA54"
      },
      "source": [
        "38. Write a program to create an arithmetic calculator using tkinter\n"
      ]
    },
    {
      "cell_type": "code",
      "execution_count": null,
      "metadata": {
        "id": "9oK3vwvgQBNQ"
      },
      "outputs": [],
      "source": [
        "import tkinter as tk\n",
        "\n",
        "\n",
        "def calculate():\n",
        "    try:\n",
        "        expression = entry.get()\n",
        "        result = eval(expression)\n",
        "        output_label.config(text='Result'+str(result))\n",
        "    except Exception as e:\n",
        "        output_label.config(text='Error:'+str(e))\n",
        "\n",
        "\n",
        "window = tk.Tk()\n",
        "window.title(\"Arithmatic Calculator\")\n",
        "entry = tk.Entry(window, width=30)\n",
        "entry.pack()\n",
        "calculate_button = tk.Button(window, text='Calculate', command=calculate)\n",
        "calculate_button.pack()\n",
        "output_label = tk.Label(window, text='')\n",
        "output_label.pack()\n",
        "window.mainloop()"
      ]
    },
    {
      "attachments": {},
      "cell_type": "markdown",
      "metadata": {},
      "source": [
        "39. Write a program to draw coloured shapes (Line, rectangle, Oval) on canvas\n"
      ]
    },
    {
      "cell_type": "code",
      "execution_count": null,
      "metadata": {},
      "outputs": [],
      "source": [
        "import tkinter as tk\n",
        "\n",
        "\n",
        "def draw_line():\n",
        "    canvas.create_line(50, 50, 200, 50, fill='red')\n",
        "\n",
        "\n",
        "def draw_rectangle():\n",
        "    canvas.create_rectangle(50, 100, 200, 200, fill='blue')\n",
        "\n",
        "\n",
        "def draw_oval():\n",
        "    canvas.create_oval(50, 250, 200, 300, fill='green')\n",
        "\n",
        "\n",
        "window = tk.Tk()\n",
        "window.title('Drawing Shapes')\n",
        "canvas = tk.Canvas(window, width=250, height=400)\n",
        "canvas.pack()\n",
        "line_button = tk.Button(window, text='Draw Line', command=draw_line)\n",
        "line_button.pack()\n",
        "rectangle_button = tk.Button(\n",
        "    window, text='Draw Rectangle', command=draw_rectangle)\n",
        "rectangle_button.pack()\n",
        "oval_button = tk.Button(window, text='Draw Oval', command=draw_oval)\n",
        "oval_button.pack()\n",
        "window.mainloop()"
      ]
    },
    {
      "attachments": {},
      "cell_type": "markdown",
      "metadata": {},
      "source": [
        "40. Write a program to create a window that disappears automatically after 5 second.\n"
      ]
    },
    {
      "cell_type": "code",
      "execution_count": 45,
      "metadata": {},
      "outputs": [],
      "source": [
        "import tkinter as tk\n",
        "window = tk.Tk('Auto Close Window')\n",
        "\n",
        "\n",
        "def close_window():\n",
        "    window.destroy()\n",
        "\n",
        "\n",
        "window.after(5000, close_window)\n",
        "window.mainloop()"
      ]
    },
    {
      "attachments": {},
      "cell_type": "markdown",
      "metadata": {},
      "source": [
        "41. Write a program a button and label inside the frame widget button should change the colour the colour upon hovering over the button and label should disappear on clicking the button\n"
      ]
    },
    {
      "cell_type": "code",
      "execution_count": 4,
      "metadata": {},
      "outputs": [],
      "source": [
        "from tkinter import *\n",
        "root = Tk()\n",
        "\n",
        "\n",
        "def disappear():\n",
        "    l.destroy()\n",
        "\n",
        "\n",
        "l = Label(text=\"This is a label\")\n",
        "b = Button(text=\"Click Me\", bg='Blue',\n",
        "           activebackground='Red', command=disappear)\n",
        "b.bind(\"<Enter>\", func=lambda e: b.config(bg=\"pink\"))\n",
        "b.bind('<Leave>', func=lambda e: b.config(bg='orange'))\n",
        "b.pack()\n",
        "l.pack()\n",
        "mainloop()"
      ]
    },
    {
      "attachments": {},
      "cell_type": "markdown",
      "metadata": {},
      "source": [
        "42. Write a program to create radio buttons (Male,Female, and Transgender) and a label Default selection should be on Female and the label must display the current selection made by user\n"
      ]
    },
    {
      "cell_type": "code",
      "execution_count": 9,
      "metadata": {},
      "outputs": [],
      "source": [
        "from tkinter import *\n",
        "root = Tk()\n",
        "\n",
        "\n",
        "def p():\n",
        "    if v.get() == 1:\n",
        "        l.config(text=\"Male\")\n",
        "    elif v.get() == 2:\n",
        "        l.config(text=\"Female\")\n",
        "    elif v.get() == 3:\n",
        "        l.config(text=\"Transgender\")\n",
        "\n",
        "\n",
        "v = IntVar(root, 2)\n",
        "l = Label(text='female', bg='grey', width='10')\n",
        "Radiobutton(text=\"Male\", value=1, variable=v, command=p).grid(row=0, column=0)\n",
        "Radiobutton(text=\"Female\", value=2, variable=v,\n",
        "            command=p).grid(row=0, column=1)\n",
        "Radiobutton(text=\"Transgender\", value=3, variable=v,\n",
        "            command=p).grid(row=0, column=2)\n",
        "Label(text=\"Gender:\").grid(row=1, column=0)\n",
        "l.grid(row=1, column=1)\n",
        "mainloop()"
      ]
    },
    {
      "attachments": {},
      "cell_type": "markdown",
      "metadata": {},
      "source": [
        "43. Write a program to display a menu on the menu bar\n"
      ]
    },
    {
      "cell_type": "code",
      "execution_count": 13,
      "metadata": {},
      "outputs": [],
      "source": [
        "from tkinter import Toplevel, Button, Tk, Menu\n",
        "top = Tk()\n",
        "menubar = Menu(top)\n",
        "file = Menu(menubar, tearoff=0)\n",
        "file.add_command(label=\"New\")\n",
        "file.add_command(label=\"Open\")\n",
        "file.add_command(label=\"Save\")\n",
        "file.add_command(label=\"Save As\")\n",
        "file.add_command(label=\"Close\")\n",
        "file.add_separator()\n",
        "file.add_command(label=\"Exit\", command=top.quit)\n",
        "menubar.add_cascade(label=\"File\", menu=file)\n",
        "edit = Menu(menubar, tearoff=0)\n",
        "edit.add_command(label=\"Undo\")\n",
        "edit.add_separator()\n",
        "edit.add_command(label=\"Cut\")\n",
        "edit.add_command(label=\"Copy\")\n",
        "edit.add_command(label=\"Paste\")\n",
        "edit.add_command(label=\"Paste\")\n",
        "edit.add_command(label=\"Delete\")\n",
        "edit.add_command(label=\"Select All\")\n",
        "menubar.add_cascade(label=\"Edit\", menu=edit)\n",
        "help = Menu(menubar, tearoff=0)\n",
        "help.add_command(label=\"About\")\n",
        "menubar.add_cascade(label=\"Help\", menu=help)\n",
        "top.config(menu=menubar)\n",
        "top.mainloop()"
      ]
    },
    {
      "cell_type": "markdown",
      "metadata": {
        "id": "Y5yBtTwHOI4W"
      },
      "source": [
        "44. Write a NumPy program to create an array of (3, 4) shape, multiply every element value by 3 and display the new array.\n"
      ]
    },
    {
      "cell_type": "code",
      "execution_count": 39,
      "metadata": {
        "colab": {
          "base_uri": "https://localhost:8080/"
        },
        "id": "THy4zO1KOKDG",
        "outputId": "56f89604-53e2-440b-f0bf-de9c0f5ed0d4"
      },
      "outputs": [
        {
          "name": "stdout",
          "output_type": "stream",
          "text": [
            "[[ 1  2  3  4]\n",
            " [ 5  6  7  8]\n",
            " [ 9 10 11 12]]\n",
            "[[ 3  6  9 12]\n",
            " [15 18 21 24]\n",
            " [27 30 33 36]]\n"
          ]
        }
      ],
      "source": [
        "import numpy as np\n",
        "a = np.array([[1, 2, 3, 4], [5, 6, 7, 8], [9, 10, 11, 12]])\n",
        "print(a)\n",
        "new_a = a*3\n",
        "print(new_a)"
      ]
    },
    {
      "cell_type": "markdown",
      "metadata": {
        "id": "ZgghJtUQO7vO"
      },
      "source": [
        "45. Write a NumPy program to compute the multiplication of two given matrixes.\n"
      ]
    },
    {
      "cell_type": "code",
      "execution_count": 40,
      "metadata": {
        "colab": {
          "base_uri": "https://localhost:8080/"
        },
        "id": "FqpoJoNhO9C1",
        "outputId": "91a77d28-76fb-4e72-acc4-6766c69cdf05"
      },
      "outputs": [
        {
          "name": "stdout",
          "output_type": "stream",
          "text": [
            "[[1400 2000]\n",
            " [2000 2900]]\n"
          ]
        }
      ],
      "source": [
        "import numpy as np\n",
        "m1 = np.array([[10, 20, 30], [20, 30, 40]])\n",
        "m2 = np.array([[10, 20], [20, 30], [30, 40]])\n",
        "result = np.dot(m1, m2)\n",
        "print(result)"
      ]
    },
    {
      "cell_type": "markdown",
      "metadata": {
        "id": "ar_XB5MCPFdP"
      },
      "source": [
        "46. Write a Program to create a series from a list, numpy array and dict.\n"
      ]
    },
    {
      "cell_type": "code",
      "execution_count": 41,
      "metadata": {
        "id": "AH8HdSTyPD_O"
      },
      "outputs": [
        {
          "name": "stdout",
          "output_type": "stream",
          "text": [
            "Series from list\n",
            "0    10\n",
            "1    20\n",
            "2    30\n",
            "3    40\n",
            "4    50\n",
            "dtype: int64\n",
            "Series from arrays\n",
            "0    0.5\n",
            "1    0.8\n",
            "2    1.2\n",
            "3    1.5\n",
            "4    2.0\n",
            "dtype: float64\n",
            "Series from dictionary\n",
            "A    100\n",
            "B    200\n",
            "C    300\n",
            "D    400\n",
            "dtype: int64\n"
          ]
        }
      ],
      "source": [
        "import numpy as np\n",
        "import pandas as pd\n",
        "l_d = [10, 20, 30, 40, 50]\n",
        "l_s = pd.Series(l_d)\n",
        "print('Series from list')\n",
        "print(l_s)\n",
        "a_d = np.array([0.5, 0.8, 1.2, 1.5, 2.0])\n",
        "a_s = pd.Series(a_d)\n",
        "print('Series from arrays')\n",
        "print(a_s)\n",
        "d_d = {'A': 100, 'B': 200, 'C': 300, 'D': 400}\n",
        "d_s = pd.Series(d_d)\n",
        "print('Series from dictionary')\n",
        "print(d_s)"
      ]
    },
    {
      "cell_type": "markdown",
      "metadata": {
        "id": "9QrTDOhbQleV"
      },
      "source": [
        "47. Write a Program to convert a numpy array to a dataframe of given shape.\n"
      ]
    },
    {
      "cell_type": "code",
      "execution_count": 42,
      "metadata": {
        "colab": {
          "base_uri": "https://localhost:8080/"
        },
        "id": "joEPpiVeQmMN",
        "outputId": "18e5f1e0-76b8-4441-d9d0-82551935b190"
      },
      "outputs": [
        {
          "name": "stdout",
          "output_type": "stream",
          "text": [
            "   array\n",
            "0      1\n",
            "1      2\n"
          ]
        }
      ],
      "source": [
        "import numpy as np\n",
        "import pandas as pd\n",
        "a = np.array([1, 2, 3, 4])\n",
        "m = pd.DataFrame(a, columns=['array'])\n",
        "print(m.loc[[0, 1]])"
      ]
    },
    {
      "cell_type": "markdown",
      "metadata": {
        "id": "Glc4SIt_XcHF"
      },
      "source": [
        "48. write a program to count number of missing values in each column.\n"
      ]
    },
    {
      "cell_type": "code",
      "execution_count": 43,
      "metadata": {
        "colab": {
          "base_uri": "https://localhost:8080/"
        },
        "id": "dIHTf8nJXcQo",
        "outputId": "c3b568aa-9dfd-4a9d-c9cf-18846df68ef4"
      },
      "outputs": [
        {
          "name": "stdout",
          "output_type": "stream",
          "text": [
            "column_1    1\n",
            "column_2    1\n",
            "column_3    1\n",
            "dtype: int64\n"
          ]
        }
      ],
      "source": [
        "import pandas as pd\n",
        "d = {'column_1': [1, 2, 3, None, 5], 'column_2': [\n",
        "    6, None, 8, 9, 10], 'column_3': [11, 12, None, 14, 15]}\n",
        "df = pd.DataFrame(d)\n",
        "print(df.isnull().sum(axis=0))"
      ]
    },
    {
      "cell_type": "code",
      "execution_count": 14,
      "metadata": {},
      "outputs": [],
      "source": [
        "import tkinter as tk\n",
        "\n",
        "\n",
        "def draw_line():\n",
        "    canvas.create_line(50, 50, 200, 50, fill='red')\n",
        "\n",
        "\n",
        "def draw_rectangle():\n",
        "    canvas.create_rectangle(50, 100, 200, 200, fill='blue')\n",
        "\n",
        "\n",
        "def draw_oval():\n",
        "    canvas.create_oval(50, 250, 200, 300, fill='green')\n",
        "\n",
        "\n",
        "window = tk.Tk()\n",
        "window.title('Drawing Shapes')\n",
        "canvas = tk.Canvas(window, width=250, height=400)\n",
        "canvas.pack()\n",
        "line_button = tk.Button(window, text='Draw Line', command=draw_line)\n",
        "line_button.pack()\n",
        "rectangle_button = tk.Button(\n",
        "    window, text='Draw Rectangle', command=draw_rectangle)\n",
        "rectangle_button.pack()\n",
        "oval_button = tk.Button(window, text='Draw Oval', command=draw_oval)\n",
        "oval_button.pack()\n",
        "window.mainloop()"
      ]
    },
    {
      "cell_type": "markdown",
      "metadata": {
        "id": "6BcEHJNiaDLL"
      },
      "source": [
        "49. write a program to replace missing values in a column of a dataframe by the mean value of that column.\n"
      ]
    },
    {
      "cell_type": "code",
      "execution_count": 15,
      "metadata": {
        "colab": {
          "base_uri": "https://localhost:8080/"
        },
        "id": "1rssm3KiaDl8",
        "outputId": "3992ed8f-252d-48f6-b277-d3f0be9f7e4a"
      },
      "outputs": [
        {
          "name": "stdout",
          "output_type": "stream",
          "text": [
            "    Duration                Date    Pulse    Maxpulse    Calories\n",
            "0                 60  '2020/12/01'     110          130     409.1\n",
            "1                 60  '2020/12/02'     117          145     479.0\n",
            "2                 60  '2020/12/03'     103          135     340.0\n",
            "3                 45  '2020/12/04'     109          175     282.4\n",
            "4                 45  '2020/12/05'     117          148     406.0\n",
            "5                 60  '2020/12/06'     102          127     300.0\n",
            "6                 60  '2020/12/07'     110          136     374.0\n",
            "7                450  '2020/12/08'     104          134     253.3\n",
            "8                 30  '2020/12/09'     109          133     195.1\n",
            "9                 60  '2020/12/10'      98          124     269.0\n",
            "10                60  '2020/12/11'     103          147     329.3\n",
            "11                60  '2020/12/12'     100          120     250.7\n",
            "12                60  '2020/12/12'     100          120     250.7\n",
            "13                60  '2020/12/13'     106          128     345.3\n",
            "14                60  '2020/12/14'     104          132     379.3\n",
            "15                60  '2020/12/15'      98          123     275.0\n",
            "16                60  '2020/12/16'      98          120     215.2\n",
            "17                60  '2020/12/17'     100          120     300.0\n",
            "18                45  '2020/12/18'      90          112     304.7\n",
            "19                60  '2020/12/19'     103          123     323.0\n",
            "20                45  '2020/12/20'      97          125     243.0\n",
            "21                60  '2020/12/21'     108          131     364.2\n",
            "22                45           NaN     100          119     282.0\n",
            "23                60  '2020/12/23'     130          101     300.0\n",
            "24                45  '2020/12/24'     105          132     246.0\n",
            "25                60  '2020/12/25'     102          126     334.5\n",
            "26                60    26-12-2020     100          120     250.0\n",
            "27                60  '2020/12/27'      92          118     241.0\n",
            "28                60  '2020/12/28'     103          132     304.7\n",
            "29                60  '2020/12/29'     100          132     280.0\n",
            "30                60  '2020/12/30'     102          129     380.3\n",
            "31                60  '2020/12/31'      92          115     243.0\n"
          ]
        }
      ],
      "source": [
        "import pandas as pd\n",
        "df = pd.read_csv('Data/Date1.csv')\n",
        "df.fillna(df.mean(numeric_only=True).round(1), inplace=True)\n",
        "print(df)"
      ]
    },
    {
      "cell_type": "markdown",
      "metadata": {
        "id": "Wk-kr7hlbQni"
      },
      "source": [
        "50. Write a Pandas program to create a line plot of the opening, closing stock prices of Alphabet Inc. between two specific dates. Use the alphabet_stock_data.csv file to extract data.\n"
      ]
    },
    {
      "cell_type": "code",
      "execution_count": 16,
      "metadata": {
        "id": "kLNQEQ2hbPar"
      },
      "outputs": [
        {
          "name": "stdout",
          "output_type": "stream",
          "text": [
            "         Date    Open    High     Low   Close     Volume\n",
            "0    1/3/2017  778.81  789.63  775.80  786.14  1,657,300\n",
            "1    1/4/2017  788.36  791.34  783.16  786.90  1,073,000\n",
            "2    1/5/2017  786.08  794.48  785.02  794.02  1,335,200\n",
            "3    1/6/2017  795.26  807.90  792.20  806.15  1,640,200\n",
            "4    1/9/2017  806.40  809.97  802.83  806.65  1,272,400\n",
            "5   1/10/2017  807.86  809.13  803.51  804.79  1,176,800\n",
            "6   1/11/2017  805.00  808.15  801.37  807.91  1,065,900\n",
            "7   1/12/2017  807.14  807.39  799.17  806.36  1,353,100\n",
            "8   1/13/2017  807.48  811.22  806.69  807.88  1,099,200\n",
            "9   1/17/2017  807.08  807.14  800.37  804.61  1,362,100\n",
            "10  1/18/2017  805.81  806.21  800.99  806.07  1,294,400\n",
            "11  1/19/2017  805.12  809.48  801.80  802.17    919,300\n",
            "12  1/20/2017  806.91  806.91  801.69  805.02  1,670,000\n",
            "13  1/23/2017  807.25  820.87  803.74  819.31  1,963,600\n",
            "14  1/24/2017  822.30  825.90  817.82  823.87  1,474,000\n",
            "15  1/25/2017  829.62  835.77  825.06  835.67  1,494,500\n",
            "16  1/26/2017  837.81  838.00  827.01  832.15  2,973,900\n",
            "17  1/27/2017  834.71  841.95  820.44  823.31  2,965,800\n",
            "18  1/30/2017  814.66  815.84  799.80  802.32  3,246,600\n",
            "19  1/31/2017  796.86  801.25  790.52  796.79  2,160,600\n"
          ]
        },
        {
          "data": {
            "image/png": "[encoded data removed]",
            "text/plain": [
              "<Figure size 640x480 with 1 Axes>"
            ]
          },
          "metadata": {},
          "output_type": "display_data"
        }
      ],
      "source": [
        "import matplotlib.pyplot as plt\n",
        "import pandas as pd\n",
        "d = pd.read_csv('E:\\DAY2\\Data\\Google_Stock_Price_Test.csv')\n",
        "print(d)\n",
        "\n",
        "d['Date'] = pd.to_datetime(d['Date'])\n",
        "start_date = '2017-01-01'\n",
        "end_date = '2017-01-31'\n",
        "filtered_d = d[(d['Date'] >= start_date) & (d['Date'] <= end_date)]\n",
        "dates = filtered_d['Date']\n",
        "opening_prices = filtered_d['Open']\n",
        "closing_prices = filtered_d['Close']\n",
        "plt.plot(dates, opening_prices, label='Opening Price')\n",
        "plt.plot(dates, closing_prices, label='Closing Price')\n",
        "plt.title('Stock Prices (Openining and Closing)')\n",
        "plt.xlabel('Date')\n",
        "plt.ylabel('Price')\n",
        "plt.xticks(rotation=45)\n",
        "plt.legend()\n",
        "plt.show()"
      ]
    }
  ],
  "metadata": {
    "colab": {
      "provenance": []
    },
    "kernelspec": {
      "display_name": "Python 3",
      "name": "python3"
    },
    "language_info": {
      "codemirror_mode": {
        "name": "ipython",
        "version": 3
      },
      "file_extension": ".py",
      "mimetype": "text/x-python",
      "name": "python",
      "nbconvert_exporter": "python",
      "pygments_lexer": "ipython3",
      "version": "3.11.4"
    }
  },
  "nbformat": 4,
  "nbformat_minor": 0
}
