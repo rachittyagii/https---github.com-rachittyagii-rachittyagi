{
 "cells": [
  {
   "attachments": {},
   "cell_type": "markdown",
   "metadata": {},
   "source": [
    "Internal Demo Test"
   ]
  },
  {
   "attachments": {},
   "cell_type": "markdown",
   "metadata": {},
   "source": [
    "Rachit Tyagi,\n",
    "CSML - C,\n",
    "0221CSML211"
   ]
  },
  {
   "attachments": {},
   "cell_type": "markdown",
   "metadata": {},
   "source": [
    "1 - import numpy as np # create numpy\n",
    "array arr = np.array([1, 2, 4, 5, 6]) #flipud method for reversing reverse_\n",
    "arr = np.flipud(arr)\n",
    "print(reverse_arr)"
   ]
  },
  {
   "cell_type": "code",
   "execution_count": 1,
   "metadata": {},
   "outputs": [
    {
     "name": "stdout",
     "output_type": "stream",
     "text": [
      "[6 5 4 2 1]\n"
     ]
    }
   ],
   "source": [
    "import numpy as np\n",
    "arr = np.array([1, 2, 4, 5, 6])\n",
    "reverse_arr = np.flipud(arr)\n",
    "print(reverse_arr)\n"
   ]
  },
  {
   "attachments": {},
   "cell_type": "markdown",
   "metadata": {},
   "source": [
    "Remove all rows with NULL values: USING NUMPY AND PANDAS OF YOUR DATASET WHICH YOU HAVE"
   ]
  },
  {
   "cell_type": "code",
   "execution_count": 11,
   "metadata": {},
   "outputs": [
    {
     "name": "stdout",
     "output_type": "stream",
     "text": [
      "    Duration                Date    Pulse    Maxpulse    Calories\n",
      "0                 60  '2020/12/01'     110          130     409.1\n",
      "1                 60  '2020/12/02'     117          145     479.0\n",
      "2                 60  '2020/12/03'     103          135     340.0\n",
      "3                 45  '2020/12/04'     109          175     282.4\n",
      "4                 45  '2020/12/05'     117          148     406.0\n",
      "5                 60  '2020/12/06'     102          127     300.0\n",
      "6                 60  '2020/12/07'     110          136     374.0\n",
      "7                450  '2020/12/08'     104          134     253.3\n",
      "8                 30  '2020/12/09'     109          133     195.1\n",
      "9                 60  '2020/12/10'      98          124     269.0\n",
      "10                60  '2020/12/11'     103          147     329.3\n",
      "11                60  '2020/12/12'     100          120     250.7\n",
      "12                60  '2020/12/12'     100          120     250.7\n",
      "13                60  '2020/12/13'     106          128     345.3\n",
      "14                60  '2020/12/14'     104          132     379.3\n",
      "15                60  '2020/12/15'      98          123     275.0\n",
      "16                60  '2020/12/16'      98          120     215.2\n",
      "17                60  '2020/12/17'     100          120     300.0\n",
      "19                60  '2020/12/19'     103          123     323.0\n",
      "20                45  '2020/12/20'      97          125     243.0\n",
      "21                60  '2020/12/21'     108          131     364.2\n",
      "23                60  '2020/12/23'     130          101     300.0\n",
      "24                45  '2020/12/24'     105          132     246.0\n",
      "25                60  '2020/12/25'     102          126     334.5\n",
      "26                60    26-12-2020     100          120     250.0\n",
      "27                60  '2020/12/27'      92          118     241.0\n",
      "29                60  '2020/12/29'     100          132     280.0\n",
      "30                60  '2020/12/30'     102          129     380.3\n",
      "31                60  '2020/12/31'      92          115     243.0\n"
     ]
    }
   ],
   "source": [
    "import pandas as pd\n",
    "df = pd.read_csv('E:\\DAY2\\Data\\Date1.csv')\n",
    "new_df = df.dropna()\n",
    "print(new_df.to_string())"
   ]
  },
  {
   "attachments": {},
   "cell_type": "markdown",
   "metadata": {},
   "source": [
    "Write a program to demonstrate hybrid inheritance and show MRO for each class"
   ]
  },
  {
   "cell_type": "code",
   "execution_count": null,
   "metadata": {},
   "outputs": [],
   "source": []
  },
  {
   "attachments": {},
   "cell_type": "markdown",
   "metadata": {},
   "source": [
    "Create a class named as Student to store the rollno, name and marks in three subjects. Use List to store the marks. \n",
    "a) Write an instance method called compute() to compute total marks and\n",
    "average marks of a student. \n",
    "b) Write a method called display() to display student information\n",
    "(1 Point)"
   ]
  },
  {
   "cell_type": "code",
   "execution_count": 16,
   "metadata": {},
   "outputs": [
    {
     "ename": "ValueError",
     "evalue": "invalid literal for int() with base 10: ''",
     "output_type": "error",
     "traceback": [
      "\u001b[1;31m---------------------------------------------------------------------------\u001b[0m",
      "\u001b[1;31mValueError\u001b[0m                                Traceback (most recent call last)",
      "Cell \u001b[1;32mIn[16], line 14\u001b[0m\n\u001b[0;32m     12\u001b[0m     \u001b[39mfor\u001b[39;00m i \u001b[39min\u001b[39;00m \u001b[39mrange\u001b[39m(\u001b[39m1\u001b[39m,\u001b[39m4\u001b[39m):\n\u001b[0;32m     13\u001b[0m       \u001b[39mprint\u001b[39m(\u001b[39mf\u001b[39m\u001b[39m'\u001b[39m\u001b[39mMarks in subject\u001b[39m\u001b[39m{\u001b[39;00mi\u001b[39m}\u001b[39;00m\u001b[39m = \u001b[39m\u001b[39m'\u001b[39m,\u001b[39mself\u001b[39m\u001b[39m.\u001b[39mlist_of_marks[i\u001b[39m-\u001b[39m\u001b[39m1\u001b[39m])\n\u001b[1;32m---> 14\u001b[0m Rachit \u001b[39m=\u001b[39m Student()\n\u001b[0;32m     15\u001b[0m Rachit\u001b[39m.\u001b[39mcompute()\n\u001b[0;32m     16\u001b[0m Rachit\u001b[39m.\u001b[39mdisplay()\n",
      "Cell \u001b[1;32mIn[16], line 6\u001b[0m, in \u001b[0;36mStudent.__init__\u001b[1;34m(self)\u001b[0m\n\u001b[0;32m      4\u001b[0m \u001b[39mself\u001b[39m\u001b[39m.\u001b[39mname \u001b[39m=\u001b[39m \u001b[39minput\u001b[39m(\u001b[39m'\u001b[39m\u001b[39mEnter student name: \u001b[39m\u001b[39m'\u001b[39m)\n\u001b[0;32m      5\u001b[0m \u001b[39mfor\u001b[39;00m i \u001b[39min\u001b[39;00m \u001b[39mrange\u001b[39m(\u001b[39m1\u001b[39m,\u001b[39m4\u001b[39m):\n\u001b[1;32m----> 6\u001b[0m   \u001b[39mself\u001b[39m\u001b[39m.\u001b[39mlist_of_marks\u001b[39m.\u001b[39mappend(\u001b[39mint\u001b[39;49m(\u001b[39minput\u001b[39;49m(\u001b[39mf\u001b[39;49m\u001b[39m'\u001b[39;49m\u001b[39mEnter marks in subect \u001b[39;49m\u001b[39m{\u001b[39;49;00mi\u001b[39m}\u001b[39;49;00m\u001b[39m :\u001b[39;49m\u001b[39m'\u001b[39;49m)))\n",
      "\u001b[1;31mValueError\u001b[0m: invalid literal for int() with base 10: ''"
     ]
    }
   ],
   "source": [
    "class Student:\n",
    "  list_of_marks = []\n",
    "  def __init__(self):\n",
    "    self.name = input('Enter student name: ')\n",
    "    for i in range(1,4):\n",
    "      self.list_of_marks.append(int(input(f'Enter marks in subect {i} :')))\n",
    "  def compute(self):\n",
    "    self.total_marks = sum(self.list_of_marks)\n",
    "    self.average = self.total_marks/3\n",
    "  def display(self):\n",
    "    print(self.name,'details:')\n",
    "    for i in range(1,4):\n",
    "      print(f'Marks in subject{i} = ',self.list_of_marks[i-1])\n",
    "Rachit = Student()\n",
    "Rachit.compute()\n",
    "Rachit.display()\n",
    "print(Rachit.total_marks)\n",
    "print(Rachit.average)"
   ]
  },
  {
   "attachments": {},
   "cell_type": "markdown",
   "metadata": {},
   "source": [
    "Write a program to implement default constructor, parameterized constructor, and destructor."
   ]
  },
  {
   "cell_type": "code",
   "execution_count": 9,
   "metadata": {},
   "outputs": [
    {
     "name": "stdout",
     "output_type": "stream",
     "text": [
      "object deleted\n"
     ]
    },
    {
     "ename": "TypeError",
     "evalue": "Person.__init__() missing 1 required positional argument: 'name'",
     "output_type": "error",
     "traceback": [
      "\u001b[1;31m---------------------------------------------------------------------------\u001b[0m",
      "\u001b[1;31mTypeError\u001b[0m                                 Traceback (most recent call last)",
      "Cell \u001b[1;32mIn[9], line 8\u001b[0m\n\u001b[0;32m      6\u001b[0m     \u001b[39mdef\u001b[39;00m \u001b[39mdisplay\u001b[39m(\u001b[39mself\u001b[39m):\n\u001b[0;32m      7\u001b[0m         \u001b[39mprint\u001b[39m(\u001b[39mself\u001b[39m\u001b[39m.\u001b[39mname)\n\u001b[1;32m----> 8\u001b[0m p \u001b[39m=\u001b[39m Person()\n\u001b[0;32m      9\u001b[0m p\u001b[39m.\u001b[39mdisplay()\n\u001b[0;32m     10\u001b[0m \u001b[39mdel\u001b[39;00m p\n",
      "\u001b[1;31mTypeError\u001b[0m: Person.__init__() missing 1 required positional argument: 'name'"
     ]
    }
   ],
   "source": [
    "class Person:\n",
    "    def __init__(self,name):\n",
    "        self.name = name\n",
    "    def __del__(self):\n",
    "        print(\"object deleted\")\n",
    "    def display(self):\n",
    "        print(self.name)\n",
    "p = Person()\n",
    "p.display()\n",
    "del p\n"
   ]
  },
  {
   "attachments": {},
   "cell_type": "markdown",
   "metadata": {},
   "source": [
    "\n",
    "Write a program that creates an iterator to print squares of numbers."
   ]
  },
  {
   "cell_type": "code",
   "execution_count": 14,
   "metadata": {},
   "outputs": [
    {
     "name": "stdout",
     "output_type": "stream",
     "text": [
      "1\n",
      "4\n",
      "9\n",
      "16\n",
      "25\n",
      "36\n",
      "49\n",
      "64\n",
      "81\n",
      "100\n"
     ]
    }
   ],
   "source": [
    "class Square_Iterator:\n",
    "    def __init__(self,limit):\n",
    "        self.limit = limit\n",
    "    def __iter__(self):\n",
    "        self.a = 1\n",
    "        return self\n",
    "    def __next__(self):\n",
    "        if self.limit>=self.a:\n",
    "            x = self.a\n",
    "            self.a+=1\n",
    "            return x**2\n",
    "        else:\n",
    "            raise StopIteration\n",
    "S = Square_Iterator(10)\n",
    "for i in S:\n",
    "    print(i)\n"
   ]
  },
  {
   "attachments": {},
   "cell_type": "markdown",
   "metadata": {},
   "source": [
    " WAP that extends the class Employee. Derive two classes Manager and Team\n",
    "Leader from Employee class. Display all the details of the employee working\n",
    "under a particular Manager and Team Leader. \n"
   ]
  },
  {
   "cell_type": "code",
   "execution_count": 13,
   "metadata": {},
   "outputs": [
    {
     "name": "stdout",
     "output_type": "stream",
     "text": [
      "Mike \n",
      "ID: 5 \n",
      "salary: 75000 \n",
      "designation: Manager \n",
      "team: A\n",
      "\n",
      "Mike is leading the following employees:\n",
      "\n",
      "John \n",
      "ID: 1 \n",
      "salary: 50000\n",
      "\n",
      "Jane \n",
      "ID: 2 \n",
      "salary: 60000\n",
      "\n",
      "Tom \n",
      "ID: 6 \n",
      "salary: 70000 \n",
      "designation: Team Leader \n",
      "team: B\n",
      "\n",
      "Tom is leading the following employees:\n",
      "\n",
      "Bob \n",
      "ID: 3 \n",
      "salary: 55000\n",
      "\n",
      "Alice \n",
      "ID: 4 \n",
      "salary: 65000\n",
      "\n"
     ]
    }
   ],
   "source": [
    "\n",
    "\n",
    "class Employee:\n",
    "  d = {chr(i):[] for i in range(65,91)}\n",
    "  def __init__(self, name, emp_id, salary):\n",
    "        self.name = name\n",
    "        self.emp_id = emp_id\n",
    "        self.salary = salary\n",
    "  def team(self,obj,team):         \n",
    "    self.d[team].append(obj)\n",
    "    \n",
    "\n",
    "         \n",
    "class Manager(Employee):\n",
    "    def __init__(self, name, emp_id, salary, team):\n",
    "        super().__init__(name, emp_id, salary)\n",
    "        self.designation = 'Manager'\n",
    "        self.team = team\n",
    "\n",
    "    def display_team(self):\n",
    "        print(f\"{self.name} \\nID: {self.emp_id} \\nsalary: {self.salary} \\ndesignation: {self.designation} \\nteam: {self.team}\")\n",
    "        print()\n",
    "\n",
    "        print(f\"{self.name} is leading the following employees:\")\n",
    "        print()\n",
    "        for emp in self.d[self.team]:\n",
    "            print(f\"{emp.name} \\nID: {emp.emp_id} \\nsalary: {emp.salary}\")\n",
    "            print()\n",
    "\n",
    "class TeamLeader(Employee):\n",
    "    def __init__(self, name, emp_id, salary, team):\n",
    "        super().__init__(name, emp_id, salary)\n",
    "        self.team = team\n",
    "        self.designation = 'Team Leader'\n",
    " \n",
    "    def display_team(self):\n",
    "        print(f\"{self.name} \\nID: {self.emp_id} \\nsalary: {self.salary} \\ndesignation: {self.designation} \\nteam: {self.team}\")\n",
    "        print()\n",
    "\n",
    "        print(f\"{self.name} is leading the following employees:\")\n",
    "        print()\n",
    "        for emp in self.d[self.team]:\n",
    "            print(f\"{emp.name} \\nID: {emp.emp_id} \\nsalary: {emp.salary}\")\n",
    "            print()\n",
    "emp1 = Employee(\"John\", 1, 50000)\n",
    "emp1.team(emp1,'A')\n",
    "emp2 = Employee(\"Jane\", 2, 60000)\n",
    "emp2.team(emp2,'A')\n",
    "emp3 = Employee(\"Bob\", 3, 55000)\n",
    "emp3.team(emp3,'B')\n",
    "emp4 = Employee(\"Alice\", 4, 65000)\n",
    "emp4.team(emp4,'B')\n",
    "mgr = Manager(\"Mike\", 5, 75000, 'A')\n",
    "tl = TeamLeader(\"Tom\", 6, 70000, 'B')\n",
    "\n",
    "mgr.display_team()\n",
    "tl.display_team()"
   ]
  },
  {
   "attachments": {},
   "cell_type": "markdown",
   "metadata": {},
   "source": [
    "Write a Program to create a series from a list, numpy array and dict.\n",
    "list_data = [10, 20, 30, 40, 50]\n",
    "array_data = ([0.5, 0.8, 1.2, 1.5, 2.0])\n"
   ]
  },
  {
   "cell_type": "code",
   "execution_count": null,
   "metadata": {},
   "outputs": [],
   "source": []
  },
  {
   "attachments": {},
   "cell_type": "markdown",
   "metadata": {},
   "source": [
    "Create a class Employee that keeps a track of the number of employees in an\n",
    "organization and also stores their name, designation and salary details.\n",
    "a. Write a method called getdata to take input (name, designation, salary)\n",
    "from user.\n",
    "b. Write a method called average to find average salary of all the employees\n",
    "in the organization.\n",
    "c. Write a method called display to print all the information of an employee. "
   ]
  },
  {
   "cell_type": "code",
   "execution_count": 18,
   "metadata": {},
   "outputs": [],
   "source": [
    "class Employee:\n",
    "  number_of_employees = 0\n",
    "  total_salary = 0 \n",
    "  average = 0\n",
    "  def __init__(self):\n",
    "    Employee.number_of_employees+=1\n",
    "  def getdata(self):\n",
    "    self.name = input(\"Enter employee name: \")\n",
    "    self.designation = input(\"Enter employee designation: \")\n",
    "    self.salary = int(input(\"Enter employee salary: \"))\n",
    "    \n",
    "    Employee.total_salary += self.salary\n",
    "    Employee.average = Employee.total_salary/Employee.number_of_employees\n",
    "  def display(self):\n",
    "    print(self.name,'details :')\n",
    "    print('Designation :',self.designation)\n",
    "    print('Salary :',self.salary)\n",
    "E = Employee()\n",
    "E.getdata()\n",
    "E.display()\n",
    "E.number_of_employees"
   ]
  }
 ],
 "metadata": {
  "kernelspec": {
   "display_name": "Python 3",
   "language": "python",
   "name": "python3"
  },
  "language_info": {
   "codemirror_mode": {
    "name": "ipython",
    "version": 3
   },
   "file_extension": ".py",
   "mimetype": "text/x-python",
   "name": "python",
   "nbconvert_exporter": "python",
   "pygments_lexer": "ipython3",
   "version": "3.11.3"
  },
  "orig_nbformat": 4
 },
 "nbformat": 4,
 "nbformat_minor": 2
}
