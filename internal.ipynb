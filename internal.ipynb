{
 "cells": [
  {
   "attachments": {},
   "cell_type": "markdown",
   "metadata": {},
   "source": [
    "Internal Demo Test"
   ]
  },
  {
   "attachments": {},
   "cell_type": "markdown",
   "metadata": {},
   "source": [
    "Rachit Tyagi,\n",
    "CSML - C,\n",
    "0221CSML211"
   ]
  },
  {
   "attachments": {},
   "cell_type": "markdown",
   "metadata": {},
   "source": [
    "1 - import numpy as np # create numpy\n",
    "array arr = np.array([1, 2, 4, 5, 6]) #flipud method for reversing reverse_\n",
    "arr = np.flipud(arr)\n",
    "print(reverse_arr)"
   ]
  },
  {
   "cell_type": "code",
   "execution_count": 1,
   "metadata": {},
   "outputs": [
    {
     "name": "stdout",
     "output_type": "stream",
     "text": [
      "[6 5 4 2 1]\n"
     ]
    }
   ],
   "source": [
    "import numpy as np\n",
    "arr = np.array([1, 2, 4, 5, 6])\n",
    "reverse_arr = np.flipud(arr)\n",
    "print(reverse_arr)\n"
   ]
  },
  {
   "attachments": {},
   "cell_type": "markdown",
   "metadata": {},
   "source": [
    "Remove all rows with NULL values: USING NUMPY AND PANDAS OF YOUR DATASET WHICH YOU HAVE"
   ]
  },
  {
   "cell_type": "code",
   "execution_count": 11,
   "metadata": {},
   "outputs": [
    {
     "name": "stdout",
     "output_type": "stream",
     "text": [
      "    Duration                Date    Pulse    Maxpulse    Calories\n",
      "0                 60  '2020/12/01'     110          130     409.1\n",
      "1                 60  '2020/12/02'     117          145     479.0\n",
      "2                 60  '2020/12/03'     103          135     340.0\n",
      "3                 45  '2020/12/04'     109          175     282.4\n",
      "4                 45  '2020/12/05'     117          148     406.0\n",
      "5                 60  '2020/12/06'     102          127     300.0\n",
      "6                 60  '2020/12/07'     110          136     374.0\n",
      "7                450  '2020/12/08'     104          134     253.3\n",
      "8                 30  '2020/12/09'     109          133     195.1\n",
      "9                 60  '2020/12/10'      98          124     269.0\n",
      "10                60  '2020/12/11'     103          147     329.3\n",
      "11                60  '2020/12/12'     100          120     250.7\n",
      "12                60  '2020/12/12'     100          120     250.7\n",
      "13                60  '2020/12/13'     106          128     345.3\n",
      "14                60  '2020/12/14'     104          132     379.3\n",
      "15                60  '2020/12/15'      98          123     275.0\n",
      "16                60  '2020/12/16'      98          120     215.2\n",
      "17                60  '2020/12/17'     100          120     300.0\n",
      "19                60  '2020/12/19'     103          123     323.0\n",
      "20                45  '2020/12/20'      97          125     243.0\n",
      "21                60  '2020/12/21'     108          131     364.2\n",
      "23                60  '2020/12/23'     130          101     300.0\n",
      "24                45  '2020/12/24'     105          132     246.0\n",
      "25                60  '2020/12/25'     102          126     334.5\n",
      "26                60    26-12-2020     100          120     250.0\n",
      "27                60  '2020/12/27'      92          118     241.0\n",
      "29                60  '2020/12/29'     100          132     280.0\n",
      "30                60  '2020/12/30'     102          129     380.3\n",
      "31                60  '2020/12/31'      92          115     243.0\n"
     ]
    }
   ],
   "source": [
    "import pandas as pd\n",
    "df = pd.read_csv('E:\\DAY2\\Data\\Date1.csv')\n",
    "new_df = df.dropna()\n",
    "print(new_df.to_string())"
   ]
  },
  {
   "attachments": {},
   "cell_type": "markdown",
   "metadata": {},
   "source": [
    "Write a program to demonstrate hybrid inheritance and show MRO for each class"
   ]
  },
  {
   "cell_type": "code",
   "execution_count": null,
   "metadata": {},
   "outputs": [],
   "source": []
  },
  {
   "attachments": {},
   "cell_type": "markdown",
   "metadata": {},
   "source": [
    "Create a class named as Student to store the rollno, name and marks in three subjects. Use List to store the marks. \n",
    "a) Write an instance method called compute() to compute total marks and\n",
    "average marks of a student. \n",
    "b) Write a method called display() to display student information\n",
    "(1 Point)"
   ]
  },
  {
   "cell_type": "code",
   "execution_count": 12,
   "metadata": {},
   "outputs": [],
   "source": [
    "class Student:\n",
    "  list_of_marks = []\n",
    "  def __init__(self):\n",
    "    self.name = input('Enter student name: ')\n",
    "    for i in range(1,4):\n",
    "      self.list_of_marks.append(int(input(f'Enter marks in subect {i} :')))\n",
    "  def compute(self):\n",
    "    self.total_marks = sum(self.list_of_marks)\n",
    "    self.average = self.total_marks/3\n",
    "  def display(self):\n",
    "    print(self.name,'details:')\n",
    "    for i in range(1,4):\n",
    "      print(f'Marks in subject{i} = ',self.list_of_marks[i-1])\n",
    "yash = Student()\n",
    "yash.compute()\n",
    "yash.display()\n",
    "print(Rachit.total_marks)\n",
    "print(Rachit.average)"
   ]
  },
  {
   "attachments": {},
   "cell_type": "markdown",
   "metadata": {},
   "source": [
    "Write a program to implement default constructor, parameterized constructor, and destructor."
   ]
  },
  {
   "cell_type": "code",
   "execution_count": 9,
   "metadata": {},
   "outputs": [
    {
     "name": "stdout",
     "output_type": "stream",
     "text": [
      "object deleted\n"
     ]
    },
    {
     "ename": "TypeError",
     "evalue": "Person.__init__() missing 1 required positional argument: 'name'",
     "output_type": "error",
     "traceback": [
      "\u001b[1;31m---------------------------------------------------------------------------\u001b[0m",
      "\u001b[1;31mTypeError\u001b[0m                                 Traceback (most recent call last)",
      "Cell \u001b[1;32mIn[9], line 8\u001b[0m\n\u001b[0;32m      6\u001b[0m     \u001b[39mdef\u001b[39;00m \u001b[39mdisplay\u001b[39m(\u001b[39mself\u001b[39m):\n\u001b[0;32m      7\u001b[0m         \u001b[39mprint\u001b[39m(\u001b[39mself\u001b[39m\u001b[39m.\u001b[39mname)\n\u001b[1;32m----> 8\u001b[0m p \u001b[39m=\u001b[39m Person()\n\u001b[0;32m      9\u001b[0m p\u001b[39m.\u001b[39mdisplay()\n\u001b[0;32m     10\u001b[0m \u001b[39mdel\u001b[39;00m p\n",
      "\u001b[1;31mTypeError\u001b[0m: Person.__init__() missing 1 required positional argument: 'name'"
     ]
    }
   ],
   "source": [
    "class Person:\n",
    "    def __init__(self,name):\n",
    "        self.name = name\n",
    "    def __del__(self):\n",
    "        print(\"object deleted\")\n",
    "    def display(self):\n",
    "        print(self.name)\n",
    "p = Person()\n",
    "p.display()\n",
    "del p"
   ]
  }
 ],
 "metadata": {
  "kernelspec": {
   "display_name": "Python 3",
   "language": "python",
   "name": "python3"
  },
  "language_info": {
   "codemirror_mode": {
    "name": "ipython",
    "version": 3
   },
   "file_extension": ".py",
   "mimetype": "text/x-python",
   "name": "python",
   "nbconvert_exporter": "python",
   "pygments_lexer": "ipython3",
   "version": "3.11.3"
  },
  "orig_nbformat": 4
 },
 "nbformat": 4,
 "nbformat_minor": 2
}
