{
 "cells": [
  {
   "cell_type": "code",
   "execution_count": 14,
   "metadata": {},
   "outputs": [],
   "source": [
    "from tkinter import *\n",
    "master = Tk()\n",
    "Label(master, text='First Name').grid(row=0)\n",
    "Label(master, text='Last Name').grid(row=1)\n",
    "e1 = Entry(master)\n",
    "e2 = Entry(master)\n",
    "e1.grid(row=0, column=1)\n",
    "e2.grid(row=1, column=1)\n",
    "mainloop()"
   ]
  },
  {
   "cell_type": "code",
   "execution_count": 3,
   "metadata": {},
   "outputs": [],
   "source": [
    "import tkinter as tk\n",
    "window = tk.Tk('Auto Close Window')\n",
    "\n",
    "\n",
    "def close_window():\n",
    "    window.destroy()\n",
    "\n",
    "\n",
    "window.after(5000, close_window)\n",
    "window.mainloop()"
   ]
  },
  {
   "cell_type": "code",
   "execution_count": 5,
   "metadata": {},
   "outputs": [],
   "source": [
    "import tkinter as tk\n",
    "\n",
    "\n",
    "def calculate():\n",
    "    try:\n",
    "        expression = entry.get()\n",
    "        result = eval(expression)\n",
    "        output_label.config(text='Result'+str(result))\n",
    "    except Exception as e:\n",
    "        output_label.config(text='Error:'+str(e))\n",
    "\n",
    "\n",
    "window = tk.Tk()\n",
    "window.title(\"Arithmatic Calculator\")\n",
    "entry = tk.Tk()\n",
    "window.title(\"Arithmatic Calculator\")\n",
    "entry = tk.Entry(window, width=30)\n",
    "entry.pack()\n",
    "calculate_button = tk.Button(window, text='Calculate', command=calculate)\n",
    "calculate_button.pack()\n",
    "output_label = tk.Label(window, text='')\n",
    "output_label.pack()\n",
    "window.mainloop()"
   ]
  },
  {
   "attachments": {},
   "cell_type": "markdown",
   "metadata": {},
   "source": [
    "Write a program to create four button = 1-Message display, 2-shape, 3-calculation, 4-Entry form "
   ]
  },
  {
   "attachments": {},
   "cell_type": "markdown",
   "metadata": {},
   "source": [
    "Shape"
   ]
  },
  {
   "cell_type": "code",
   "execution_count": null,
   "metadata": {},
   "outputs": [],
   "source": [
    "import tkinter as tk\n",
    "\n",
    "\n",
    "def draw_line():\n",
    "    canvas.create_line(50, 50, 200, 50, fill='red')\n",
    "\n",
    "\n",
    "def draw_rectangle():\n",
    "    canvas.create_rectangle(50, 100, 200, 200, fill='blue')\n",
    "\n",
    "\n",
    "def draw_oval():\n",
    "    canvas.create_oval(50, 250, 200, 300, fill='green')\n",
    "\n",
    "\n",
    "window = tk.Tk()\n",
    "window.title('Drawing Shapes')\n",
    "canvas = tk.Canvas(window, width=250, height=400)\n",
    "canvas.pack()\n",
    "line_button = tk.Button(window, text='Draw Line', command=draw_line)\n",
    "line_button.pack()\n",
    "rectangle_button = tk.Button(\n",
    "    window, text='Draw Rectangle', command=draw_rectangle)\n",
    "rectangle_button.pack()\n",
    "oval_button = tk.Button(window, text='Draw Oval', command=draw_oval)\n",
    "oval_button.pack()\n",
    "window.mainloop()"
   ]
  },
  {
   "attachments": {},
   "cell_type": "markdown",
   "metadata": {},
   "source": [
    "Message Box\n"
   ]
  },
  {
   "cell_type": "code",
   "execution_count": null,
   "metadata": {},
   "outputs": [],
   "source": [
    "import tkinter\n",
    "from tkinter import *\n",
    "from tkinter import messagebox\n",
    "top = tkinter.Tk()\n",
    "top.title(\"Rachit Tyagi\")\n",
    "\n",
    "\n",
    "def helloCallBack():\n",
    "    messagebox.showinfo(\"Hello Python\", \"Hello World\")\n",
    "\n",
    "\n",
    "B = tkinter.Button(top, text=\"Hello\", command=helloCallBack)\n",
    "B.pack()\n",
    "top.mainloop()"
   ]
  },
  {
   "attachments": {},
   "cell_type": "markdown",
   "metadata": {},
   "source": [
    "Calculator"
   ]
  },
  {
   "cell_type": "code",
   "execution_count": 1,
   "metadata": {},
   "outputs": [],
   "source": [
    "import tkinter as tk\n",
    "\n",
    "\n",
    "def calculate():\n",
    "    try:\n",
    "        expression = entry.get()\n",
    "        result = eval(expression)\n",
    "        output_label.config(text='Result'+str(result))\n",
    "    except Exception as e:\n",
    "        output_label.config(text='Error:'+str(e))\n",
    "\n",
    "\n",
    "window = tk.Tk()\n",
    "window.title(\"Arithmatic Calculator\")\n",
    "entry = tk.Tk()\n",
    "window.title(\"Arithmatic Calculator\")\n",
    "entry = tk.Entry(window, width=30)\n",
    "entry.pack()\n",
    "calculate_button = tk.Button(window, text='Calculate', command=calculate)\n",
    "calculate_button.pack()\n",
    "output_label = tk.Label(window, text='')\n",
    "output_label.pack()\n",
    "window.mainloop()"
   ]
  },
  {
   "attachments": {},
   "cell_type": "markdown",
   "metadata": {},
   "source": [
    "Entry Form"
   ]
  },
  {
   "cell_type": "code",
   "execution_count": 16,
   "metadata": {},
   "outputs": [],
   "source": [
    "from tkinter import *\n",
    "master = Tk()\n",
    "Label(master, text='Entry Form').grid(row=0)\n",
    "e1 = Entry(master)\n",
    "e1.grid(row=0, column=1)\n",
    "mainloop()"
   ]
  },
  {
   "cell_type": "markdown",
   "metadata": {},
   "source": [
    "Now combine\n"
   ]
  },
  {
   "cell_type": "code",
   "execution_count": 51,
   "metadata": {},
   "outputs": [],
   "source": [
    "import tkinter as tk\n",
    "from tkinter import messagebox\n",
    "\n",
    "\n",
    "def draw_line():\n",
    "    canvas.create_line(50, 50, 200, 50, width=2, fill='blue')\n",
    "\n",
    "\n",
    "def print_message():\n",
    "    messagebox.showinfo(\"Message\", \"Hello, World!\")\n",
    "\n",
    "\n",
    "def submit_form():\n",
    "    text = entry.get()\n",
    "    messagebox.showinfo(\"Form Data\", f\"Submitted Text: {text}\")\n",
    "\n",
    "\n",
    "window = tk.Tk()\n",
    "window.title(\"Button Actions\")\n",
    "canvas = tk.Canvas(window, width=300, height=300)\n",
    "canvas.pack()\n",
    "line_button = tk.Button(window, text=\"Draw Line\", command=draw_line)\n",
    "line_button.pack()\n",
    "message_button = tk.Button(window, text=\"Print Message\", command=print_message)\n",
    "message_button.pack()\n",
    "form_label = tk.Label(window, text=\"Enter Text:\")\n",
    "form_label.pack()\n",
    "entry = tk.Entry(window, width=30)\n",
    "entry.pack()\n",
    "submit_button = tk.Button(window, text=\"Submit\", command=submit_form)\n",
    "submit_button.pack()\n",
    "window.mainloop()"
   ]
  },
  {
   "attachments": {},
   "cell_type": "markdown",
   "metadata": {},
   "source": [
    "Calculator"
   ]
  },
  {
   "cell_type": "code",
   "execution_count": 48,
   "metadata": {},
   "outputs": [],
   "source": [
    "import tkinter as tk\n",
    "\n",
    "\n",
    "def press(num):\n",
    "    global expression\n",
    "    expression = expression + str(num)\n",
    "    entry.delete(0, tk.END)\n",
    "    entry.insert(tk.END, expression)\n",
    "\n",
    "\n",
    "def equalpress():\n",
    "    try:\n",
    "        global expression\n",
    "        result = str(eval(expression))\n",
    "        entry.delete(0, tk.END)\n",
    "        entry.insert(tk.END, result)\n",
    "        expression = \"\"\n",
    "    except Exception as e:\n",
    "        entry.delete(0, tk.END)\n",
    "        entry.insert(tk.END, \"Error: \" + str(e))\n",
    "        expression = \"\"\n",
    "\n",
    "\n",
    "def clear():\n",
    "    global expression\n",
    "    entry.delete(0, tk.END)\n",
    "    expression = \"\"\n",
    "\n",
    "\n",
    "window = tk.Tk()\n",
    "window.title(\"Large Calculator\")\n",
    "window.color = \"lightblue\"\n",
    "expression = \"\"\n",
    "entry = tk.Entry(window, font=(\"Arial\", 20), width=30, bg=\"green\")\n",
    "entry.grid(row=0, column=0, columnspan=4, padx=10, pady=10)\n",
    "buttons = [\n",
    "    '7', '8', '9', '/',\n",
    "    '4', '5', '6', '*',\n",
    "    '1', '2', '3', '-',\n",
    "    '0', '.', '=', '+'\n",
    "]\n",
    "row = 1\n",
    "col = 0\n",
    "for button in buttons:\n",
    "    btn = tk.Button(window, text=button, fg='black', bg='red',\n",
    "                    font=(\"Arial\", 16), height=2, width=8)\n",
    "    btn.grid(row=row, column=col, padx=5, pady=5)\n",
    "    btn.config(command=lambda num=button: press(num))\n",
    "    col += 1\n",
    "    if col > 3:\n",
    "        col = 0\n",
    "        row += 1\n",
    "clear_button = tk.Button(window, text='Clear', fg='black', bg='red', font=(\n",
    "    \"Arial\", 16), height=2, width=8, command=clear)\n",
    "clear_button.grid(row=row, column=col, padx=5, pady=5)\n",
    "equal_button = tk.Button(window, text='=', fg='black', bg='red', font=(\n",
    "    \"Arial\", 16), height=2, width=8, command=equalpress)\n",
    "equal_button.grid(row=row+1, column=col, padx=5, pady=5)\n",
    "window.mainloop()"
   ]
  },
  {
   "attachments": {},
   "cell_type": "markdown",
   "metadata": {},
   "source": [
    "Generator Functions "
   ]
  },
  {
   "cell_type": "code",
   "execution_count": 52,
   "metadata": {},
   "outputs": [
    {
     "name": "stdout",
     "output_type": "stream",
     "text": [
      "1\n",
      "2\n",
      "3\n",
      "4\n",
      "5\n",
      "6\n",
      "7\n",
      "8\n",
      "9\n",
      "10\n"
     ]
    }
   ],
   "source": [
    "def counter():\n",
    "    i = 1\n",
    "    while (i <= 10):\n",
    "        yield i\n",
    "        i += 1\n",
    "\n",
    "\n",
    "for i in counter():\n",
    "    print(i)"
   ]
  },
  {
   "attachments": {},
   "cell_type": "markdown",
   "metadata": {},
   "source": [
    "Write a program to decide wheather the number is even or odd using generator"
   ]
  },
  {
   "cell_type": "code",
   "execution_count": 54,
   "metadata": {},
   "outputs": [
    {
     "name": "stdout",
     "output_type": "stream",
     "text": [
      "1 is Odd\n",
      "2 is Even\n",
      "3 is Odd\n",
      "4 is Even\n",
      "5 is Odd\n",
      "6 is Even\n",
      "7 is Odd\n",
      "8 is Even\n",
      "9 is Odd\n",
      "10 is Even\n"
     ]
    }
   ],
   "source": [
    "def check_odd_even(numbers):\n",
    "    for num in numbers:\n",
    "        yield num, \"Even\" if num % 2 == 0 else \"Odd\"\n",
    "\n",
    "\n",
    "numbers = [1, 2, 3, 4, 5, 6, 7, 8, 9, 10]\n",
    "result_generator = check_odd_even(numbers)\n",
    "for num, status in result_generator:\n",
    "    print(f\"{num} is {status}\")"
   ]
  },
  {
   "attachments": {},
   "cell_type": "markdown",
   "metadata": {},
   "source": [
    "Write a program to a sqaures of number from 1 to 10 using generator "
   ]
  },
  {
   "cell_type": "code",
   "execution_count": 1,
   "metadata": {},
   "outputs": [
    {
     "name": "stdout",
     "output_type": "stream",
     "text": [
      "1\n",
      "4\n",
      "9\n",
      "16\n",
      "25\n",
      "36\n",
      "49\n",
      "64\n",
      "81\n",
      "100\n"
     ]
    }
   ],
   "source": [
    "def counter():\n",
    "    i = 1\n",
    "    while (i <= 10):\n",
    "        yield (i**2)\n",
    "        i += 1\n",
    "\n",
    "\n",
    "for i in counter():\n",
    "    print(i)"
   ]
  },
  {
   "attachments": {},
   "cell_type": "markdown",
   "metadata": {},
   "source": [
    "Write a program to generate square of even numbers up to 10 using generator and save in list\n"
   ]
  },
  {
   "cell_type": "code",
   "execution_count": 3,
   "metadata": {},
   "outputs": [
    {
     "name": "stdout",
     "output_type": "stream",
     "text": [
      "[0, 4, 16, 36, 64]\n"
     ]
    }
   ],
   "source": [
    "def even_squares(x):\n",
    "    for i in range(x):\n",
    "        if i**2 % 2 == 0:\n",
    "            yield i**2\n",
    "\n",
    "\n",
    "print(list(even_squares(10)))"
   ]
  },
  {
   "attachments": {},
   "cell_type": "markdown",
   "metadata": {},
   "source": [
    "Write a program to implement paramatrized constructor , non - paramatrized and default constructor\n"
   ]
  },
  {
   "cell_type": "code",
   "execution_count": 4,
   "metadata": {},
   "outputs": [
    {
     "name": "stdout",
     "output_type": "stream",
     "text": [
      "Parameter 1: Hello\n",
      "Parameter 2: World\n",
      "Parameter 1: None\n",
      "Parameter 2: None\n",
      "Parameter 1: OpenAI\n",
      "Parameter 2: GPT-3.5\n"
     ]
    }
   ],
   "source": [
    "class MyClass:\n",
    "    def __init__(self, param1=None, param2=None):\n",
    "        self.param1 = param1\n",
    "        self.param2 = param2\n",
    "\n",
    "    def display_params(self):\n",
    "        print(\"Parameter 1:\", self.param1)\n",
    "        print(\"Parameter 2:\", self.param2)\n",
    "\n",
    "\n",
    "# Parametrized Constructor\n",
    "obj1 = MyClass(\"Hello\", \"World\")\n",
    "obj1.display_params()\n",
    "\n",
    "# Non-parametrized Constructor\n",
    "obj2 = MyClass()\n",
    "obj2.display_params()\n",
    "\n",
    "# Default Constructor\n",
    "obj3 = MyClass()\n",
    "obj3.param1 = \"OpenAI\"\n",
    "obj3.param2 = \"GPT-3.5\"\n",
    "obj3.display_params()"
   ]
  },
  {
   "attachments": {},
   "cell_type": "markdown",
   "metadata": {},
   "source": [
    "Write a program to display multilevel inheritance"
   ]
  },
  {
   "cell_type": "code",
   "execution_count": 6,
   "metadata": {},
   "outputs": [
    {
     "name": "stdout",
     "output_type": "stream",
     "text": [
      "I am an animal. My name is Buddy\n",
      "I am a mammal. My species is Canis lupus familiaris\n",
      "I am a dog. My breed is Labrador Retriever\n"
     ]
    }
   ],
   "source": [
    "class Animal:\n",
    "    def __init__(self, name):\n",
    "        self.name = name\n",
    "\n",
    "    def display_info(self):\n",
    "        print(\"I am an animal. My name is\", self.name)\n",
    "\n",
    "\n",
    "class Mammal(Animal):\n",
    "    def __init__(self, name, species):\n",
    "        super().__init__(name)\n",
    "        self.species = species\n",
    "\n",
    "    def display_info(self):\n",
    "        super().display_info()\n",
    "        print(\"I am a mammal. My species is\", self.species)\n",
    "\n",
    "\n",
    "class Dog(Mammal):\n",
    "    def __init__(self, name, species, breed):\n",
    "        super().__init__(name, species)\n",
    "        self.breed = breed\n",
    "\n",
    "    def display_info(self):\n",
    "        super().display_info()\n",
    "        print(\"I am a dog. My breed is\", self.breed)\n",
    "\n",
    "\n",
    "# Create an object of the Dog class\n",
    "my_dog = Dog(\"Buddy\", \"Canis lupus familiaris\", \"Labrador Retriever\")\n",
    "\n",
    "# Call the display_info method to display the information\n",
    "my_dog.display_info()"
   ]
  }
 ],
 "metadata": {
  "kernelspec": {
   "display_name": "Python 3",
   "language": "python",
   "name": "python3"
  },
  "language_info": {
   "codemirror_mode": {
    "name": "ipython",
    "version": 3
   },
   "file_extension": ".py",
   "mimetype": "text/x-python",
   "name": "python",
   "nbconvert_exporter": "python",
   "pygments_lexer": "ipython3",
   "version": "3.11.4"
  },
  "orig_nbformat": 4
 },
 "nbformat": 4,
 "nbformat_minor": 2
}
