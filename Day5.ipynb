{
 "cells": [
  {
   "cell_type": "code",
   "execution_count": 2,
   "metadata": {},
   "outputs": [],
   "source": [
    "from tkinter import *\n",
    "master = Tk()\n",
    "Label(master,text='First Name').grid(row=0)\n",
    "Label(master,text='Last Name').grid(row=1)\n",
    "e1=Entry(master)\n",
    "e2=Entry(master)\n",
    "e1.grid(row=0,column=1)\n",
    "e2.grid(row=1,column=1)\n",
    "mainloop()"
   ]
  },
  {
   "cell_type": "code",
   "execution_count": 3,
   "metadata": {},
   "outputs": [],
   "source": [
    "import tkinter as tk\n",
    "window=tk.Tk('Auto Close Window')\n",
    "def close_window():\n",
    "    window.destroy()\n",
    "window.after(5000,close_window)\n",
    "window.mainloop()"
   ]
  },
  {
   "cell_type": "code",
   "execution_count": null,
   "metadata": {},
   "outputs": [],
   "source": [
    "import tkinter as tk \n",
    "def calculate():\n",
    "    try:\n",
    "        expression=entry.get()\n",
    "        result = eval(expression) \n",
    "        output_label.config(text='Result'+str(result))\n",
    "    except Exception as e:\n",
    "        output_label.config(text='Error:'+str(e))\n",
    "window=tk.Tk()\n",
    "window.tite(\"Arithmetic Calculator\")       "
   ]
  }
 ],
 "metadata": {
  "kernelspec": {
   "display_name": "Python 3",
   "language": "python",
   "name": "python3"
  },
  "language_info": {
   "codemirror_mode": {
    "name": "ipython",
    "version": 3
   },
   "file_extension": ".py",
   "mimetype": "text/x-python",
   "name": "python",
   "nbconvert_exporter": "python",
   "pygments_lexer": "ipython3",
   "version": "3.11.4"
  },
  "orig_nbformat": 4
 },
 "nbformat": 4,
 "nbformat_minor": 2
}
