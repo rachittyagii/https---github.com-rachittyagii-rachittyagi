{
 "cells": [
  {
   "cell_type": "code",
   "execution_count": 14,
   "metadata": {},
   "outputs": [],
   "source": [
    "from tkinter import *\n",
    "master = Tk()\n",
    "Label(master,text='First Name').grid(row=0)\n",
    "Label(master,text='Last Name').grid(row=1)\n",
    "e1=Entry(master)\n",
    "e2=Entry(master)\n",
    "e1.grid(row=0,column=1)\n",
    "e2.grid(row=1,column=1)\n",
    "mainloop()"
   ]
  },
  {
   "cell_type": "code",
   "execution_count": 3,
   "metadata": {},
   "outputs": [],
   "source": [
    "import tkinter as tk\n",
    "window=tk.Tk('Auto Close Window')\n",
    "def close_window():\n",
    "    window.destroy()\n",
    "window.after(5000,close_window)\n",
    "window.mainloop()"
   ]
  },
  {
   "cell_type": "code",
   "execution_count": 5,
   "metadata": {},
   "outputs": [],
   "source": [
    "import tkinter as tk \n",
    "def calculate():\n",
    "    try:\n",
    "        expression=entry.get()\n",
    "        result = eval(expression) \n",
    "        output_label.config(text='Result'+str(result))\n",
    "    except Exception as e:\n",
    "        output_label.config(text='Error:'+str(e))\n",
    "window=tk.Tk()\n",
    "window.title(\"Arithmatic Calculator\")\n",
    "entry = tk.Tk() \n",
    "window.title(\"Arithmatic Calculator\")\n",
    "entry=tk.Entry(window,width=30) \n",
    "entry.pack() \n",
    "calculate_button=tk.Button(window,text='Calculate',command=calculate)\n",
    "calculate_button.pack()\n",
    "output_label=tk.Label(window,text='')    \n",
    "output_label.pack()\n",
    "window.mainloop()"
   ]
  },
  {
   "attachments": {},
   "cell_type": "markdown",
   "metadata": {},
   "source": [
    "Write a program to create four button = 1-Message display, 2-shape, 3-calculation, 4-Entry form "
   ]
  },
  {
   "attachments": {},
   "cell_type": "markdown",
   "metadata": {},
   "source": [
    "Shape"
   ]
  },
  {
   "cell_type": "code",
   "execution_count": null,
   "metadata": {},
   "outputs": [],
   "source": [
    "import tkinter as tk\n",
    "def draw_line():\n",
    "    canvas.create_line(50,50,200,50,fill='red')\n",
    "def draw_rectangle():\n",
    "    canvas.create_rectangle(50,100,200,200,fill='blue')\n",
    "def draw_oval():\n",
    "    canvas.create_oval(50,250,200,300,fill='green')\n",
    "window = tk.Tk()\n",
    "window.title('Drawing Shapes')\n",
    "canvas = tk.Canvas(window,width=250,height=400)\n",
    "canvas.pack()\n",
    "line_button=tk.Button(window,text='Draw Line',command=draw_line)\n",
    "line_button.pack()\n",
    "rectangle_button = tk.Button(window,text='Draw Rectangle',command=draw_rectangle)\n",
    "rectangle_button.pack()\n",
    "oval_button = tk.Button(window,text='Draw Oval',command=draw_oval)\n",
    "oval_button.pack()\n",
    "window.mainloop()"
   ]
  },
  {
   "attachments": {},
   "cell_type": "markdown",
   "metadata": {},
   "source": [
    "Message Box\n"
   ]
  },
  {
   "cell_type": "code",
   "execution_count": null,
   "metadata": {},
   "outputs": [],
   "source": [
    "import tkinter\n",
    "from tkinter import *\n",
    "from tkinter import messagebox\n",
    "top = tkinter.Tk()\n",
    "top.title(\"Rachit Tyagi\")\n",
    "def helloCallBack():\n",
    "    messagebox.showinfo(\"Hello Python\",\"Hello World\")\n",
    "B=tkinter.Button(top,text=\"Hello\",command=helloCallBack)\n",
    "B.pack()\n",
    "top.mainloop()"
   ]
  },
  {
   "attachments": {},
   "cell_type": "markdown",
   "metadata": {},
   "source": [
    "Calculator"
   ]
  },
  {
   "cell_type": "code",
   "execution_count": null,
   "metadata": {},
   "outputs": [],
   "source": [
    "import tkinter as tk \n",
    "def calculate():\n",
    "    try:\n",
    "        expression=entry.get()\n",
    "        result = eval(expression) \n",
    "        output_label.config(text='Result'+str(result))\n",
    "    except Exception as e:\n",
    "        output_label.config(text='Error:'+str(e))\n",
    "window=tk.Tk()\n",
    "window.title(\"Arithmatic Calculator\")\n",
    "entry = tk.Tk() \n",
    "window.title(\"Arithmatic Calculator\")\n",
    "entry=tk.Entry(window,width=30) \n",
    "entry.pack() \n",
    "calculate_button=tk.Button(window,text='Calculate',command=calculate)\n",
    "calculate_button.pack()\n",
    "output_label=tk.Label(window,text='')    \n",
    "output_label.pack()\n",
    "window.mainloop()"
   ]
  },
  {
   "attachments": {},
   "cell_type": "markdown",
   "metadata": {},
   "source": [
    "Entry Form"
   ]
  },
  {
   "cell_type": "code",
   "execution_count": 16,
   "metadata": {},
   "outputs": [],
   "source": [
    "from tkinter import *\n",
    "master = Tk()\n",
    "Label(master,text='Entry Form').grid(row=0)\n",
    "e1=Entry(master)\n",
    "e1.grid(row=0,column=1)\n",
    "mainloop()"
   ]
  },
  {
   "attachments": {},
   "cell_type": "markdown",
   "metadata": {},
   "source": [
    "Now combine\n"
   ]
  },
  {
   "cell_type": "code",
   "execution_count": 40,
   "metadata": {},
   "outputs": [],
   "source": [
    "import tkinter as tk\n",
    "from tkinter import messagebox\n",
    "\n",
    "top = tk.Tk()\n",
    "top.title(\"Multiple buttons\")\n",
    "top.geometry('1000x1000')\n",
    "\n",
    "def hellocallback():\n",
    "    messagebox.showinfo(\"Hello Python\",\"Hello World\")\n",
    "     \n",
    "        \n",
    "def draw_rectangle(): \n",
    "    canvas = tk.Canvas(top,width=250,height=400)\n",
    "    canvas.pack()\n",
    "    canvas.create_rectangle(50,100,200,200,fill=\"blue\")    \n",
    "\n",
    "def calculate():\n",
    "    try:\n",
    "        expression = entry.get()\n",
    "        result = eval(expression)\n",
    "        output_label.config(text=\"Result: \"+ str(result))\n",
    "    except Exception as e:\n",
    "        output_label.config(text=\"Error: \" +str(e))\n",
    "        \n",
    "        \n",
    "        \n",
    "B=tk.Button(top,text=\"Hello\",command=hellocallback)\n",
    "B.pack()\n",
    "\n",
    "\n",
    "rectangle_button = tk.Button(top,text=\"Draw Rectangle\",command=draw_rectangle)\n",
    "rectangle_button.pack()\n",
    "\n",
    "\n",
    "\n",
    "entry = tk.Tk() \n",
    "entry = tk.Entry(top,width=30)\n",
    "entry.pack()\n",
    "calculate_button = tk.Button(top,text=\"Calculate\",command=calculate)\n",
    "calculate_button.pack()\n",
    "\n",
    "output_label = tk.Label(top,text=\"\")\n",
    "output_label.pack()\n",
    "\n",
    "\n",
    "\n",
    "mainloop()"
   ]
  }
 ],
 "metadata": {
  "kernelspec": {
   "display_name": "Python 3",
   "language": "python",
   "name": "python3"
  },
  "language_info": {
   "codemirror_mode": {
    "name": "ipython",
    "version": 3
   },
   "file_extension": ".py",
   "mimetype": "text/x-python",
   "name": "python",
   "nbconvert_exporter": "python",
   "pygments_lexer": "ipython3",
   "version": "3.11.4"
  },
  "orig_nbformat": 4
 },
 "nbformat": 4,
 "nbformat_minor": 2
}
