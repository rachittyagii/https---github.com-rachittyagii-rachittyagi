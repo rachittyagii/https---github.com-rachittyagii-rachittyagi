{
 "cells": [
  {
   "cell_type": "code",
   "execution_count": 1,
   "id": "1c27e219",
   "metadata": {},
   "outputs": [
    {
     "data": {
      "text/plain": [
       "[1, 4, 9, 16, 25, 36, 49, 64, 81, 100]"
      ]
     },
     "execution_count": 1,
     "metadata": {},
     "output_type": "execute_result"
    }
   ],
   "source": [
    "#1_WAP to find square of numbers from 1-10 using Lambda function\n",
    "lst = [1, 2, 3, 4, 5, 6, 7, 8, 9, 10]\n",
    "list(map(lambda x: x**2, lst)) \n",
    "\n"
   ]
  },
  {
   "cell_type": "code",
   "execution_count": null,
   "id": "9c103f79",
   "metadata": {},
   "outputs": [],
   "source": [
    "#2.WAP to find square of even numbers from 1-10 using list comprehension\n",
    "lst=[1, 2, 3, 4, 5, 6, 7, 8, 9, 10] \n",
    "even_squares = [x**2 for x in lst if x % 2 == 0] \n",
    "print(even_squares) \n"
   ]
  },
  {
   "cell_type": "code",
   "execution_count": 3,
   "id": "2c820fe1",
   "metadata": {},
   "outputs": [
    {
     "name": "stdout",
     "output_type": "stream",
     "text": [
      "7\n"
     ]
    }
   ],
   "source": [
    "#3.WAP to Show the concept of inner function\n",
    "def outerfunc(x):\n",
    "    def innerfunc():\n",
    "        print(x)\n",
    "    innerfunc() \n",
    "outerfunc(7)\n"
   ]
  },
  {
   "cell_type": "code",
   "execution_count": 5,
   "id": "26b9b05a",
   "metadata": {},
   "outputs": [
    {
     "name": "stdout",
     "output_type": "stream",
     "text": [
      "7\n"
     ]
    }
   ],
   "source": [
    "#4_WAP to create closure\n",
    "def outerfunc(x):\n",
    "    def innerfunc():\n",
    "        print(x)\n",
    "    return innerfunc #Return the object instead of calling the function\n",
    "myfunc=outerfunc(7)\n",
    "myfunc()\n"
   ]
  },
  {
   "cell_type": "code",
   "execution_count": 8,
   "id": "cbe3585d",
   "metadata": {},
   "outputs": [
    {
     "name": "stdout",
     "output_type": "stream",
     "text": [
      "HELLO THERE\n"
     ]
    }
   ],
   "source": [
    "#5_WAP to create a decorator which will convert a string into upper case string\n",
    "def uppercase_decorator(function):\n",
    "    def wrapper():\n",
    "        func = function()\n",
    "        make_uppercase=func.upper()\n",
    "        return make_uppercase\n",
    "    return wrapper\n",
    "@uppercase_decorator #Calling a decorator\n",
    "def say_hi():\n",
    "    return 'hello there' \n",
    "#decorate = uppercase_decorator(say_hi) \n",
    "#decorate()\n",
    "print(say_hi())"
   ]
  },
  {
   "cell_type": "code",
   "execution_count": 9,
   "id": "3aa4805d",
   "metadata": {},
   "outputs": [
    {
     "name": "stdout",
     "output_type": "stream",
     "text": [
      "['HELLO', 'THERE']\n"
     ]
    }
   ],
   "source": [
    "#6_WAP to show the concept of nested decorator\n",
    "def uppercase_decorator(function):\n",
    "    def wrapper():\n",
    "        func = function()\n",
    "        make_uppercase=func.upper()\n",
    "        return make_uppercase \n",
    "    return wrapper\n",
    "def split_string(function):\n",
    "    def wrapper():\n",
    "        func = function()\n",
    "        split_string = func.split() \n",
    "        return split_string\n",
    "    return wrapper\n",
    "\n",
    "\n",
    "@split_string\n",
    "@uppercase_decorator\n",
    "def say_hi():\n",
    "    return 'hello there'\n",
    "print(say_hi())"
   ]
  },
  {
   "cell_type": "code",
   "execution_count": 10,
   "id": "e7ec140a",
   "metadata": {},
   "outputs": [
    {
     "name": "stdout",
     "output_type": "stream",
     "text": [
      "My arguments are: Nairobi, Accra\n",
      "Cities I love are Nairobi and Accra\n"
     ]
    }
   ],
   "source": [
    "#7_WAP to decorate a function with arguments\n",
    "def decorator_with_arguments(function):\n",
    "    def wrapper_accepting_arguments (arg1, arg2):\n",
    "        print(\"My arguments are: {0}, {1}\".format(arg1,arg2))\n",
    "        function(arg1, arg2)\n",
    "    return wrapper_accepting_arguments \n",
    "@decorator_with_arguments \n",
    "def cities(city_one, city_two):\n",
    "    print(\"Cities I love are {0} and {1}\".format(city_one, city_two))\n",
    "# call of Decorators\n",
    "cities(\"Nairobi\", \"Accra\")\n"
   ]
  },
  {
   "cell_type": "code",
   "execution_count": 11,
   "id": "167a812a",
   "metadata": {},
   "outputs": [
    {
     "name": "stdout",
     "output_type": "stream",
     "text": [
      "User Input :  45\n",
      "No, it's ODD Number.\n",
      "User Input :  2\n",
      "Yes, it's EVEN Number.\n",
      "User Input :  7\n",
      "No, it's ODD Number.\n"
     ]
    }
   ],
   "source": [
    "#8_WAp to decorate instance method\n",
    "class Check_no:\n",
    "    def decor(func):\n",
    "        def check(self, no):\n",
    "            func(self, no)\n",
    "            if no % 2 == 0:\n",
    "                print('Yes, it\\'s EVEN Number.')\n",
    "            else:\n",
    "                print('No, it\\'s ODD Number.')\n",
    "        return check\n",
    "    @decor\n",
    "    def is_even(self, no):\n",
    "        print('User Input : ', no)\n",
    "obj = Check_no()\n",
    "obj.is_even(45)\n",
    "obj.is_even(2)\n",
    "obj.is_even(7)\n"
   ]
  },
  {
   "cell_type": "code",
   "execution_count": 14,
   "id": "6761708e",
   "metadata": {},
   "outputs": [
    {
     "name": "stdout",
     "output_type": "stream",
     "text": [
      "10\n"
     ]
    }
   ],
   "source": [
    "#9_WAP to show the concept of reduce function\n",
    "from functools import reduce \n",
    "ls = [1,2,3,4,5] \n",
    "list_sum = reduce(lambda a,b: a+b, ls)\n",
    "print(list_sum)"
   ]
  },
  {
   "cell_type": "code",
   "execution_count": null,
   "id": "a050eac1",
   "metadata": {},
   "outputs": [],
   "source": [
    "#10_WAP to generate numbers from 1 to 10 using generator\n",
    "def counter():\n",
    "    i=1\n",
    "    while(i<=10):\n",
    "        yield i\n",
    "        i+=1\n",
    "for i in counter():\n",
    "    print(i)\n"
   ]
  },
  {
   "cell_type": "code",
   "execution_count": 3,
   "id": "a4b92226",
   "metadata": {},
   "outputs": [
    {
     "name": "stdout",
     "output_type": "stream",
     "text": [
      "Odd\n",
      "Even\n",
      "Odd\n",
      "Even\n",
      "Odd\n",
      "Even\n",
      "Odd\n"
     ]
    }
   ],
   "source": [
    "#11_WAP to decide number is even or odd using generator.\n",
    "def my_gen(x):\n",
    "    while(x>0):\n",
    "        if x%2==0:\n",
    "            yield 'Even'\n",
    "        else:\n",
    "            yield 'Odd'\n",
    "        x-=1\n",
    "for i in my_gen(7):\n",
    "    print(i)\n",
    "\n"
   ]
  },
  {
   "cell_type": "code",
   "execution_count": 2,
   "id": "8d5b91a9",
   "metadata": {},
   "outputs": [
    {
     "name": "stdout",
     "output_type": "stream",
     "text": [
      "1\n",
      "4\n",
      "9\n",
      "16\n",
      "25\n",
      "36\n",
      "49\n",
      "64\n",
      "81\n",
      "100\n"
     ]
    }
   ],
   "source": [
    "#12_WAp to generate square of 1,2,3,4,5,6,7,8,9,10 using generator\n",
    "def square_generator():\n",
    "    i=1\n",
    "    while True:\n",
    "        yield i*i\n",
    "        i=i+1\n",
    "for num in square_generator():\n",
    "    if num>100:\n",
    "        break\n",
    "    print(num)"
   ]
  },
  {
   "cell_type": "code",
   "execution_count": 4,
   "id": "5e1f9604",
   "metadata": {},
   "outputs": [
    {
     "name": "stdout",
     "output_type": "stream",
     "text": [
      "[0, 4, 16, 36, 64]\n"
     ]
    }
   ],
   "source": [
    "#13_WAP to generate square of even number upto 10 using generator and save in list \n",
    "def even_squares(x):\n",
    "    for i in range(x):\n",
    "        if i**2%2==0:\n",
    "            yield i**2\n",
    "\n",
    "print(list(even_squares(10)))\n",
    "\n"
   ]
  },
  {
   "cell_type": "code",
   "execution_count": 6,
   "id": "0f9a8de0",
   "metadata": {},
   "outputs": [
    {
     "name": "stdout",
     "output_type": "stream",
     "text": [
      "Searching prefix:Dear\n",
      "Dear Ram\n"
     ]
    }
   ],
   "source": [
    "#14_WAp to make a co-routine which will print all name with prefix Dear.\n",
    "def print_name(prefix):\n",
    "    print(\"Searching prefix:{}\".format(prefix))\n",
    "    while True:\n",
    "        name = (yield)\n",
    "        if prefix in name:\n",
    "            print(name)\n",
    " \n",
    "# calling coroutine, nothing will happen\n",
    "corou = print_name(\"Dear\")\n",
    " \n",
    "# This will start execution of coroutine and\n",
    "# Prints first line \"Searching prefix...\"\n",
    "# and advance execution to the first yield expression\n",
    "corou.__next__()\n",
    " \n",
    "# sending inputs\n",
    "corou.send(\"Dear Ram\")\n",
    "corou.send(\"Atul\")"
   ]
  },
  {
   "cell_type": "code",
   "execution_count": 7,
   "id": "5b0e9f5b",
   "metadata": {},
   "outputs": [
    {
     "name": "stdout",
     "output_type": "stream",
     "text": [
      "Searching prefix:Dear\n",
      "Dear Atul\n",
      "Closing coroutine!!\n"
     ]
    }
   ],
   "source": [
    "#15_WAP to close a co-routine \n",
    "def print_name(prefix):\n",
    "    print(\"Searching prefix:{}\".format(prefix))\n",
    "    try :\n",
    "        while True:\n",
    "                name = (yield)\n",
    "                if prefix in name:\n",
    "                    print(name)\n",
    "    except GeneratorExit:\n",
    "            print(\"Closing coroutine!!\")\n",
    " \n",
    "corou = print_name(\"Dear\")\n",
    "corou.__next__()\n",
    "corou.send(\"Atul\")\n",
    "corou.send(\"Dear Atul\")\n",
    "corou.close()"
   ]
  },
  {
   "cell_type": "code",
   "execution_count": 11,
   "id": "e8e5dba4",
   "metadata": {},
   "outputs": [
    {
     "name": "stdout",
     "output_type": "stream",
     "text": [
      "apple\n",
      "banana\n",
      "cherry\n"
     ]
    }
   ],
   "source": [
    "#16_WAP to iterate tuple using iter and next method\n",
    "mytuple = (\"apple\",\"banana\",\"cherry\")\n",
    "myit = iter(mytuple)\n",
    "print(next(myit))\n",
    "print(next(myit))\n",
    "print(next(myit))"
   ]
  },
  {
   "cell_type": "code",
   "execution_count": 12,
   "id": "a3f9c2a6",
   "metadata": {},
   "outputs": [
    {
     "name": "stdout",
     "output_type": "stream",
     "text": [
      "b\n",
      "a\n",
      "n\n",
      "a\n",
      "n\n",
      "a\n"
     ]
    }
   ],
   "source": [
    "#17_WAP to iterate a string using iter and next method.\n",
    "mystr = \"banana\"\n",
    "myit = iter(mystr)\n",
    "print(next(myit))\n",
    "print(next(myit))\n",
    "print(next(myit))\n",
    "print(next(myit))\n",
    "print(next(myit))\n",
    "print(next(myit))\n"
   ]
  },
  {
   "cell_type": "code",
   "execution_count": 18,
   "id": "6e9c44f6",
   "metadata": {},
   "outputs": [
    {
     "name": "stdout",
     "output_type": "stream",
     "text": [
      "1\n",
      "2\n",
      "3\n",
      "4\n",
      "5\n"
     ]
    }
   ],
   "source": [
    "#18_Create an iterator that returns numbers, starting with 1, and each sequence will\n",
    "#increase by one (returning 1,2,3,4,5 etc.):\n",
    "class MyNumbers:\n",
    "    def __iter__(self):\n",
    "        self.a = 1\n",
    "        return self\n",
    "    def __next__(self):\n",
    "        x = self.a\n",
    "        self.a += 1\n",
    "        return x\n",
    "myclass = MyNumbers()\n",
    "myiter = iter(myclass)\n",
    "print(next(myiter))\n",
    "print(next(myiter))\n",
    "print(next(myiter))\n",
    "print(next(myiter))\n",
    "print(next(myiter))\n",
    "\n",
    "\n"
   ]
  },
  {
   "cell_type": "code",
   "execution_count": 38,
   "id": "2b7badc0",
   "metadata": {},
   "outputs": [
    {
     "name": "stdout",
     "output_type": "stream",
     "text": [
      "1\n",
      "2\n",
      "3\n",
      "4\n",
      "5\n",
      "6\n",
      "7\n",
      "8\n",
      "9\n",
      "10\n",
      "11\n",
      "12\n",
      "13\n",
      "14\n",
      "15\n",
      "16\n",
      "17\n",
      "18\n",
      "19\n",
      "20\n"
     ]
    }
   ],
   "source": [
    "#19_WAP to print numbers from 1 to 20 using iterator and generate StopIteration exception once we reach limit.\n",
    "class MyNumbers:\n",
    "    def __iter__(self):\n",
    "        self.a = 1\n",
    "        return self\n",
    "    def __next__(self):\n",
    "        if self.a <= 20:\n",
    "            x = self.a\n",
    "            self.a += 1\n",
    "            return x\n",
    "        else:\n",
    "            raise StopIteration\n",
    "myclass = MyNumbers()\n",
    "myiter = iter(myclass)\n",
    "for x in myiter:\n",
    "    print(x)"
   ]
  },
  {
   "cell_type": "code",
   "execution_count": 29,
   "id": "f9d0ce70",
   "metadata": {},
   "outputs": [
    {
     "name": "stdout",
     "output_type": "stream",
     "text": [
      "0 1 1 2 3 5 8 13 21 34 55 89 "
     ]
    }
   ],
   "source": [
    "#20_ Write a program to create a generator to print the Fibonacci number.\n",
    "def fibo(n):\n",
    "    a, b = 0,1\n",
    "    while a<n:\n",
    "        yield a\n",
    "        a, b = b, b + a\n",
    "# Create a Fibonacci number generator\n",
    "fibo_generator = fibo(100)\n",
    "\n",
    "for i in fibo_generator:\n",
    "    print(i,end=\" \")"
   ]
  },
  {
   "cell_type": "code",
   "execution_count": null,
   "id": "53ce7d4b",
   "metadata": {},
   "outputs": [],
   "source": []
  }
 ],
 "metadata": {
  "kernelspec": {
   "display_name": "Python 3 (ipykernel)",
   "language": "python",
   "name": "python3"
  },
  "language_info": {
   "codemirror_mode": {
    "name": "ipython",
    "version": 3
   },
   "file_extension": ".py",
   "mimetype": "text/x-python",
   "name": "python",
   "nbconvert_exporter": "python",
   "pygments_lexer": "ipython3",
   "version": "3.10.9"
  }
 },
 "nbformat": 4,
 "nbformat_minor": 5
}
