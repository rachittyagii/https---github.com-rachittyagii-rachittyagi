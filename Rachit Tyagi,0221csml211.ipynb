{
 "cells": [
  {
   "attachments": {},
   "cell_type": "markdown",
   "metadata": {},
   "source": [
    "Rachit Tyagi, 0221CSML211, AIML - C"
   ]
  },
  {
   "attachments": {},
   "cell_type": "markdown",
   "metadata": {},
   "source": [
    "Write a program to create an arithmetic calculator using tkinter."
   ]
  },
  {
   "cell_type": "code",
   "execution_count": 1,
   "metadata": {},
   "outputs": [],
   "source": [
    "import tkinter as tk\n",
    "\n",
    "\n",
    "def calculate():\n",
    "    try:\n",
    "        expression = entry.get()\n",
    "        result = eval(expression)\n",
    "        output_label.config(text='Result'+str(result))\n",
    "    except Exception as e:\n",
    "        output_label.config(text='Error:'+str(e))\n",
    "\n",
    "\n",
    "window = tk.Tk()\n",
    "window.title(\"Arithmatic Calculator\")\n",
    "entry = tk.Tk()\n",
    "window.title(\"Arithmatic Calculator\")\n",
    "entry = tk.Entry(window, width=30)\n",
    "entry.pack()\n",
    "calculate_button = tk.Button(window, text='Calculate', command=calculate)\n",
    "calculate_button.pack()\n",
    "output_label = tk.Label(window, text='')\n",
    "output_label.pack()\n",
    "window.mainloop()"
   ]
  },
  {
   "attachments": {},
   "cell_type": "markdown",
   "metadata": {},
   "source": [
    "Write a program to create a window that disappears automatically after 5 seconds."
   ]
  },
  {
   "cell_type": "code",
   "execution_count": 2,
   "metadata": {},
   "outputs": [],
   "source": [
    "import tkinter as tk\n",
    "window = tk.Tk('Auto Close Window')\n",
    "\n",
    "\n",
    "def close_window():\n",
    "    window.destroy()\n",
    "\n",
    "\n",
    "window.after(5000, close_window)\n",
    "window.mainloop()"
   ]
  },
  {
   "attachments": {},
   "cell_type": "markdown",
   "metadata": {},
   "source": [
    "Write a program to count the number of missing values in each column"
   ]
  },
  {
   "cell_type": "code",
   "execution_count": 3,
   "metadata": {},
   "outputs": [
    {
     "name": "stdout",
     "output_type": "stream",
     "text": [
      "Column1    1\n",
      "Column2    1\n",
      "Column3    1\n",
      "dtype: int64\n"
     ]
    }
   ],
   "source": [
    "import pandas as pd \n",
    "data ={\"Column1\":[1,2,3,None,5],\"Column2\":[6,None,8,9,10],\"Column3\":[11,12,None,14,15]}\n",
    "df = pd.DataFrame(data)\n",
    "print(df.isnull().sum(axis=0))"
   ]
  },
  {
   "attachments": {},
   "cell_type": "markdown",
   "metadata": {},
   "source": [
    "Write a Program to create a series from a list, numpy array and dict."
   ]
  },
  {
   "cell_type": "code",
   "execution_count": null,
   "metadata": {},
   "outputs": [],
   "source": []
  },
  {
   "attachments": {},
   "cell_type": "markdown",
   "metadata": {},
   "source": [
    "\n",
    "Write a Pandas program to create a line plot of the opening, closing stock prices of Alphabet Inc. between two specific dates. Use the alphabet_stock_data.csv file to extract data"
   ]
  },
  {
   "cell_type": "code",
   "execution_count": null,
   "metadata": {},
   "outputs": [],
   "source": []
  },
  {
   "attachments": {},
   "cell_type": "markdown",
   "metadata": {},
   "source": [
    "Categorical Scatter Plot (using seaborn)."
   ]
  },
  {
   "cell_type": "code",
   "execution_count": null,
   "metadata": {},
   "outputs": [],
   "source": []
  },
  {
   "attachments": {},
   "cell_type": "markdown",
   "metadata": {},
   "source": [
    "WAP to generate square of 1,2,3,4,5,6,7,8,9,10 using generator"
   ]
  },
  {
   "cell_type": "code",
   "execution_count": 8,
   "metadata": {},
   "outputs": [
    {
     "name": "stdout",
     "output_type": "stream",
     "text": [
      "1\n",
      "4\n",
      "9\n",
      "16\n",
      "25\n",
      "36\n",
      "49\n",
      "64\n",
      "81\n",
      "100\n"
     ]
    }
   ],
   "source": [
    "def counter():\n",
    "    i = 1\n",
    "    while (i <= 10):\n",
    "        yield (i**2)\n",
    "        i += 1\n",
    "\n",
    "\n",
    "for i in counter():\n",
    "    print(i)"
   ]
  },
  {
   "attachments": {},
   "cell_type": "markdown",
   "metadata": {},
   "source": [
    "Write a program to display a menu on the menu bar."
   ]
  },
  {
   "cell_type": "code",
   "execution_count": 6,
   "metadata": {},
   "outputs": [
    {
     "ename": "SyntaxError",
     "evalue": "invalid syntax (3131104882.py, line 1)",
     "output_type": "error",
     "traceback": [
      "\u001b[1;36m  Cell \u001b[1;32mIn[6], line 1\u001b[1;36m\u001b[0m\n\u001b[1;33m    Write a program to draw colored shapes (line, rectangle, oval) on canvas.\u001b[0m\n\u001b[1;37m          ^\u001b[0m\n\u001b[1;31mSyntaxError\u001b[0m\u001b[1;31m:\u001b[0m invalid syntax\n"
     ]
    }
   ],
   "source": [
    "Write a program to draw colored shapes (line, rectangle, oval) on canvas."
   ]
  },
  {
   "attachments": {},
   "cell_type": "markdown",
   "metadata": {},
   "source": [
    "Write a program to draw colored shapes (line, rectangle, oval) on canvas."
   ]
  },
  {
   "cell_type": "code",
   "execution_count": 7,
   "metadata": {},
   "outputs": [],
   "source": [
    "import tkinter as tk\n",
    "\n",
    "\n",
    "def draw_line():\n",
    "    canvas.create_line(50, 50, 200, 50, fill='red')\n",
    "\n",
    "\n",
    "def draw_rectangle():\n",
    "    canvas.create_rectangle(50, 100, 200, 200, fill='blue')\n",
    "\n",
    "\n",
    "def draw_oval():\n",
    "    canvas.create_oval(50, 250, 200, 300, fill='green')\n",
    "\n",
    "\n",
    "window = tk.Tk()\n",
    "window.title('Drawing Shapes')\n",
    "canvas = tk.Canvas(window, width=250, height=400)\n",
    "canvas.pack()\n",
    "line_button = tk.Button(window, text='Draw Line', command=draw_line)\n",
    "line_button.pack()\n",
    "rectangle_button = tk.Button(\n",
    "    window, text='Draw Rectangle', command=draw_rectangle)\n",
    "rectangle_button.pack()\n",
    "oval_button = tk.Button(window, text='Draw Oval', command=draw_oval)\n",
    "oval_button.pack()\n",
    "window.mainloop()"
   ]
  },
  {
   "attachments": {},
   "cell_type": "markdown",
   "metadata": {},
   "source": [
    "Write a program to display a menu on the menu bar.\n"
   ]
  },
  {
   "cell_type": "code",
   "execution_count": null,
   "metadata": {},
   "outputs": [],
   "source": []
  }
 ],
 "metadata": {
  "kernelspec": {
   "display_name": "Python 3",
   "language": "python",
   "name": "python3"
  },
  "language_info": {
   "codemirror_mode": {
    "name": "ipython",
    "version": 3
   },
   "file_extension": ".py",
   "mimetype": "text/x-python",
   "name": "python",
   "nbconvert_exporter": "python",
   "pygments_lexer": "ipython3",
   "version": "3.11.4"
  },
  "orig_nbformat": 4
 },
 "nbformat": 4,
 "nbformat_minor": 2
}
