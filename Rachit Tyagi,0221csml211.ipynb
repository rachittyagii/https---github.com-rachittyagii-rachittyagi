{
 "cells": [
  {
   "attachments": {},
   "cell_type": "markdown",
   "metadata": {},
   "source": [
    "Rachit Tyagi, 0221CSML211, AIML - C"
   ]
  },
  {
   "attachments": {},
   "cell_type": "markdown",
   "metadata": {},
   "source": [
    "Write a program to create an arithmetic calculator using tkinter."
   ]
  },
  {
   "cell_type": "code",
   "execution_count": 1,
   "metadata": {},
   "outputs": [],
   "source": [
    "import tkinter as tk\n",
    "\n",
    "\n",
    "def calculate():\n",
    "    try:\n",
    "        expression = entry.get()\n",
    "        result = eval(expression)\n",
    "        output_label.config(text='Result'+str(result))\n",
    "    except Exception as e:\n",
    "        output_label.config(text='Error:'+str(e))\n",
    "\n",
    "\n",
    "window = tk.Tk()\n",
    "window.title(\"Arithmatic Calculator\")\n",
    "entry = tk.Tk()\n",
    "window.title(\"Arithmatic Calculator\")\n",
    "entry = tk.Entry(window, width=30)\n",
    "entry.pack()\n",
    "calculate_button = tk.Button(window, text='Calculate', command=calculate)\n",
    "calculate_button.pack()\n",
    "output_label = tk.Label(window, text='')\n",
    "output_label.pack()\n",
    "window.mainloop()"
   ]
  },
  {
   "attachments": {},
   "cell_type": "markdown",
   "metadata": {},
   "source": [
    "Write a program to create a window that disappears automatically after 5 seconds."
   ]
  },
  {
   "cell_type": "code",
   "execution_count": null,
   "metadata": {},
   "outputs": [],
   "source": [
    "import tkinter as tk\n",
    "window = tk.Tk('Auto Close Window')\n",
    "\n",
    "\n",
    "def close_window():\n",
    "    window.destroy()\n",
    "\n",
    "\n",
    "window.after(5000, close_window)\n",
    "window.mainloop()"
   ]
  }
 ],
 "metadata": {
  "kernelspec": {
   "display_name": "Python 3",
   "language": "python",
   "name": "python3"
  },
  "language_info": {
   "codemirror_mode": {
    "name": "ipython",
    "version": 3
   },
   "file_extension": ".py",
   "mimetype": "text/x-python",
   "name": "python",
   "nbconvert_exporter": "python",
   "pygments_lexer": "ipython3",
   "version": "3.11.4"
  },
  "orig_nbformat": 4
 },
 "nbformat": 4,
 "nbformat_minor": 2
}
